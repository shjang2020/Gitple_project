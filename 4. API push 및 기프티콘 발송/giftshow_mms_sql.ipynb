{
 "cells": [
  {
   "cell_type": "markdown",
   "id": "bbb19b21",
   "metadata": {},
   "source": [
    "### 마이데이터를 활용하여 특정 고객 추출 후 기프티쇼 API 활용하여 기프티콘 발송"
   ]
  },
  {
   "cell_type": "code",
   "execution_count": 1,
   "id": "12e87eb8",
   "metadata": {},
   "outputs": [],
   "source": [
    "import pandas as pd\n",
    "import numpy as np\n",
    "from datetime import datetime"
   ]
  },
  {
   "cell_type": "code",
   "execution_count": 2,
   "id": "967b5e7a",
   "metadata": {},
   "outputs": [],
   "source": [
    "import pymysql\n",
    "import paramiko\n",
    "from sshtunnel import SSHTunnelForwarder\n",
    "\n",
    "#from datetime import datetime, date, timedelta\n",
    "\n",
    "pkeyfilepath = '/Users/apple/Desktop/ssh_key.pem' ######################### ssh_key.pem 파일 경로 넣으시면 됩니다.\n",
    "mypkey = paramiko.RSAKey.from_private_key_file(pkeyfilepath)\n",
    "sql_hostname = 'db-8j8d2-fkr.cdb.fin-ntruss.com'\n",
    "sql_username = 'wkdtjdgus2142'            ######################### sql_username 입력하시면 됩니다.\n",
    "sql_password = '?!0hLtR$_i8onochu=aC'            ######################### sql_password 입력하시면 됩니다.\n",
    "sql_main_database = 'betterday_db'\n",
    "sql_port = 3306\n",
    "ssh_host = '10.0.1.14'\n",
    "ssh_user = 'wkdtjdgus2142'                ######################### ssh_user 입력하시면 됩니다.\n",
    "ssh_port = 22\n",
    "\n",
    "# soslSuregi97o#rop0n0"
   ]
  },
  {
   "cell_type": "code",
   "execution_count": 3,
   "id": "c0672709",
   "metadata": {},
   "outputs": [
    {
     "data": {
      "text/html": [
       "<div>\n",
       "<style scoped>\n",
       "    .dataframe tbody tr th:only-of-type {\n",
       "        vertical-align: middle;\n",
       "    }\n",
       "\n",
       "    .dataframe tbody tr th {\n",
       "        vertical-align: top;\n",
       "    }\n",
       "\n",
       "    .dataframe thead th {\n",
       "        text-align: right;\n",
       "    }\n",
       "</style>\n",
       "<table border=\"1\" class=\"dataframe\">\n",
       "  <thead>\n",
       "    <tr style=\"text-align: right;\">\n",
       "      <th></th>\n",
       "      <th>cust_id</th>\n",
       "    </tr>\n",
       "  </thead>\n",
       "  <tbody>\n",
       "    <tr>\n",
       "      <th>0</th>\n",
       "      <td>7706</td>\n",
       "    </tr>\n",
       "    <tr>\n",
       "      <th>1</th>\n",
       "      <td>7716</td>\n",
       "    </tr>\n",
       "    <tr>\n",
       "      <th>2</th>\n",
       "      <td>7710</td>\n",
       "    </tr>\n",
       "    <tr>\n",
       "      <th>3</th>\n",
       "      <td>7722</td>\n",
       "    </tr>\n",
       "    <tr>\n",
       "      <th>4</th>\n",
       "      <td>7728</td>\n",
       "    </tr>\n",
       "    <tr>\n",
       "      <th>...</th>\n",
       "      <td>...</td>\n",
       "    </tr>\n",
       "    <tr>\n",
       "      <th>372</th>\n",
       "      <td>8856</td>\n",
       "    </tr>\n",
       "    <tr>\n",
       "      <th>373</th>\n",
       "      <td>8859</td>\n",
       "    </tr>\n",
       "    <tr>\n",
       "      <th>374</th>\n",
       "      <td>8860</td>\n",
       "    </tr>\n",
       "    <tr>\n",
       "      <th>375</th>\n",
       "      <td>8877</td>\n",
       "    </tr>\n",
       "    <tr>\n",
       "      <th>376</th>\n",
       "      <td>8887</td>\n",
       "    </tr>\n",
       "  </tbody>\n",
       "</table>\n",
       "<p>377 rows × 1 columns</p>\n",
       "</div>"
      ],
      "text/plain": [
       "    cust_id\n",
       "0      7706\n",
       "1      7716\n",
       "2      7710\n",
       "3      7722\n",
       "4      7728\n",
       "..      ...\n",
       "372    8856\n",
       "373    8859\n",
       "374    8860\n",
       "375    8877\n",
       "376    8887\n",
       "\n",
       "[377 rows x 1 columns]"
      ]
     },
     "execution_count": 3,
     "metadata": {},
     "output_type": "execute_result"
    }
   ],
   "source": [
    "with SSHTunnelForwarder(\n",
    "            (ssh_host, ssh_port),\n",
    "            ssh_username=ssh_user,\n",
    "            ssh_pkey=mypkey,\n",
    "            remote_bind_address=(sql_hostname, sql_port)) as tunnel:\n",
    "            con = pymysql.connect(host='127.0.0.1', user=sql_username,\n",
    "                                  passwd=sql_password, db=sql_main_database,\n",
    "                                  port=tunnel.local_bind_port)\n",
    "\n",
    "            #BCID = user_id\n",
    "            sql = f\"\"\"\n",
    "                SELECT cust_id\n",
    "                FROM betterday_admin.bo_cust_evnts\n",
    "                where evnt_id ='2209002' and is_cmplt = 'Y' and is_trm_agr = 'Y'\n",
    "                and date_format(convert_tz( created_at,'+00:00','+09:00'),'%Y%m%d') < '20221101' ;\n",
    "            \"\"\"\n",
    "            temp = pd.read_sql(sql, con)\n",
    "temp"
   ]
  },
  {
   "cell_type": "code",
   "execution_count": 4,
   "id": "c442ba55",
   "metadata": {},
   "outputs": [],
   "source": [
    "import requests\n",
    "import json\n",
    "import ssl\n",
    "\n",
    "url = 'https://app.betterday.co.kr/api/v1/admin/login'\n",
    "headers = {\"Content-Type\": \"application/json; charset=UTF-8\" }\n",
    "datas = {\n",
    "      \"id\": \"admin\",\n",
    "      \"password\": \"finset@01\"\n",
    "}\n",
    "request_login = requests.post(url,headers=headers,verify=False,data=json.dumps(datas))\n",
    "token = json.loads(request_login.content)[\"token\"][\"access_token\"]"
   ]
  },
  {
   "cell_type": "code",
   "execution_count": 5,
   "id": "98c3589e",
   "metadata": {},
   "outputs": [],
   "source": [
    "array_test = temp['cust_id'].to_list()"
   ]
  },
  {
   "cell_type": "code",
   "execution_count": null,
   "id": "f1c92eb4",
   "metadata": {},
   "outputs": [],
   "source": [
    "#array_test=[268,10]\n",
    "url = 'https://app.betterday.co.kr/api/v1/admin/users'\n",
    "headers = {\n",
    "    'Content-Type': 'application/json',\n",
    "    'Authorization' : 'Bearer '+ token\n",
    "}\n",
    "datas = {\n",
    "    \"users\": array_test\n",
    "}\n",
    "request_real = requests.post(url,headers=headers,verify=False,data=json.dumps(datas))\n",
    "a = json.loads(request_real.content)\n",
    "df = pd.DataFrame(a)\n",
    "df.to_csv('event_list_1102.csv')\n",
    "df"
   ]
  },
  {
   "cell_type": "code",
   "execution_count": 9,
   "id": "be531229",
   "metadata": {},
   "outputs": [
    {
     "data": {
      "text/plain": [
       "{'7706', '7716', '7770', '8613', '8887'}"
      ]
     },
     "execution_count": 9,
     "metadata": {},
     "output_type": "execute_result"
    }
   ],
   "source": [
    "set(temp['cust_id'].to_list()) - set(df['ID'].to_list())"
   ]
  },
  {
   "cell_type": "code",
   "execution_count": null,
   "id": "3d82ee30",
   "metadata": {},
   "outputs": [],
   "source": [
    "df = pd.read_csv('event_list_1102.csv', index_col=0, dtype=str)\n",
    "df"
   ]
  },
  {
   "cell_type": "code",
   "execution_count": 11,
   "id": "550ab1e3",
   "metadata": {
    "scrolled": true
   },
   "outputs": [
    {
     "data": {
      "text/plain": [
       "362"
      ]
     },
     "execution_count": 11,
     "metadata": {},
     "output_type": "execute_result"
    }
   ],
   "source": [
    "len(df['MOBILE_NO'].to_list())"
   ]
  },
  {
   "cell_type": "code",
   "execution_count": 19,
   "id": "f3e3028f",
   "metadata": {},
   "outputs": [],
   "source": [
    "now = datetime.now()\n",
    "now_time = str(now.hour)+str(now.minute)\n",
    "now_day = str(now.year)+str(now.month)+str(now.day)\n",
    "\n",
    "\n",
    "api_code = '0204'   # API코드\n",
    "custom_auth_code = 'REALe175d367815b4d6a8bd160191e8c45f6' # API 인증 키 \n",
    "custom_auth_token = 'h0kjZn5SyztxvrbGflhmXg==' # API 인증 토큰\n",
    "dev_yn = 'N' # 테스트여부 설정 값 - yes or no # 운영(N)으로만 설정해서 테스트 해야 합니다.\n",
    "goods_code = 'G00000760670' # 상품코드\n",
    "# mms_msg = 'test' # MMS 메시지\n",
    "# mms_title = 'title_te' # MMS제목 - mms_title 은 10자가 넘으면 안됩니다.\n",
    "mms_msg = '베러 웰컴 이벤트 당첨을 진심으로 축하드립니다. 베러가 제공하는 금융건강진단과 성향별 투자 포트폴리오 추천으로 더 나은 내일을 만나세요!' # MMS 메시지\n",
    "mms_title = '베러 자산연결 이벤트 경품' # MMS제목 - mms_title 은 10자가 넘으면 안됩니다.\n",
    "callbank_no = '15662231' # '-'를 제외한 발신번호 \n",
    "#phone_no = ['01031399129','01077742140'] # '-'를 제외한 수신번호\n",
    "phone_no = df['MOBILE_NO'].to_list() # '-'를 제외한 수신번호"
   ]
  },
  {
   "cell_type": "code",
   "execution_count": 20,
   "id": "8ab67717",
   "metadata": {},
   "outputs": [],
   "source": [
    "user_id = 'admin@finset.io' # 회원 ID - 고객의 unique id인지, 계정 id인지 \n",
    "gubun = 'N' # MMS발송 구분자 - Y: 핀번호수신 - N: MMS - I: 바코드이미지수신\n",
    "# 옵션 파라미터\n",
    "order_no = '' # 주문번호\n",
    "rev_info_yn = '' # 예약발송여부 (Y:예약, N:실시간)\n",
    "rev_info_date = '' # 예약일자 (yyyyMMdd)\n",
    "rev_info_time = '' # 예약시간 (HHmm)\n",
    "template_id = '' # 카드 아이디\n",
    "banner_id = '202006010058067' # 배너 아이디\n",
    "\n",
    "URL = 'https://bizapi.giftishow.com/bizApi/send'"
   ]
  },
  {
   "cell_type": "code",
   "execution_count": 24,
   "id": "5015004c",
   "metadata": {
    "scrolled": false
   },
   "outputs": [
    {
     "data": {
      "text/plain": [
       "363"
      ]
     },
     "execution_count": 24,
     "metadata": {},
     "output_type": "execute_result"
    }
   ],
   "source": [
    "len(phone_no)"
   ]
  },
  {
   "cell_type": "code",
   "execution_count": 7,
   "id": "76093854",
   "metadata": {},
   "outputs": [
    {
     "name": "stdout",
     "output_type": "stream",
     "text": [
      "발송할 고객 전화번호 - []\n"
     ]
    }
   ],
   "source": [
    "tr_id_lst = []\n",
    "for i in range(len(phone_no)):\n",
    "  tr_id = 'service_' + now_day + '_' + now_time + '_' + str(i)\n",
    "\n",
    "  input_data = {\n",
    "    \"api_code\": f'{api_code}',\n",
    "    \"custom_auth_code\": f'{custom_auth_code}',\n",
    "    \"custom_auth_token\": f'{custom_auth_token}',\n",
    "    \"dev_yn\": f'{dev_yn}',\n",
    "    \"goods_code\": f'{goods_code}',\n",
    "    \"mms_msg\": f'{mms_msg}',\n",
    "    \"mms_title\": f'{mms_title}',\n",
    "    \"callback_no\": f'{callbank_no}',\n",
    "    \"phone_no\": phone_no[i],\n",
    "    \"tr_id\": f'{tr_id}',\n",
    "    \"user_id\": f'{user_id}',\n",
    "    \"gubun\": f'{gubun}'\n",
    "  }\n",
    "  response = requests.post(URL, data=input_data)\n",
    "  print('발송할 고객 전화번호 - ', phone_no)\n",
    "  print('')\n",
    "  print(\"response: \", response)\n",
    "  print(\"response.text: \", response.text)\n",
    "  tr_id_lst.append(tr_id)\n",
    "\n",
    "print(tr_id_lst)"
   ]
  },
  {
   "cell_type": "code",
   "execution_count": 27,
   "id": "1f16ad51",
   "metadata": {
    "scrolled": true
   },
   "outputs": [
    {
     "data": {
      "text/plain": [
       "363"
      ]
     },
     "execution_count": 27,
     "metadata": {},
     "output_type": "execute_result"
    }
   ],
   "source": [
    "len(tr_id_lst)"
   ]
  },
  {
   "cell_type": "code",
   "execution_count": 28,
   "id": "b5da7b2a",
   "metadata": {},
   "outputs": [],
   "source": [
    "df['tr_id'] = tr_id_lst[:-1]\n",
    "df.to_csv('event_trid_1102.csv')"
   ]
  },
  {
   "cell_type": "code",
   "execution_count": 35,
   "id": "b4f74260",
   "metadata": {
    "scrolled": true
   },
   "outputs": [
    {
     "data": {
      "text/plain": [
       "'service_2022112_183362'"
      ]
     },
     "execution_count": 35,
     "metadata": {},
     "output_type": "execute_result"
    }
   ],
   "source": [
    "tr_id_lst[-1]"
   ]
  }
 ],
 "metadata": {
  "kernelspec": {
   "display_name": "Python 3 (ipykernel)",
   "language": "python",
   "name": "python3"
  },
  "language_info": {
   "codemirror_mode": {
    "name": "ipython",
    "version": 3
   },
   "file_extension": ".py",
   "mimetype": "text/x-python",
   "name": "python",
   "nbconvert_exporter": "python",
   "pygments_lexer": "ipython3",
   "version": "3.9.12"
  },
  "toc": {
   "base_numbering": 1,
   "nav_menu": {},
   "number_sections": true,
   "sideBar": true,
   "skip_h1_title": false,
   "title_cell": "Table of Contents",
   "title_sidebar": "Contents",
   "toc_cell": false,
   "toc_position": {},
   "toc_section_display": true,
   "toc_window_display": false
  },
  "vscode": {
   "interpreter": {
    "hash": "40d3a090f54c6569ab1632332b64b2c03c39dcf918b08424e98f38b5ae0af88f"
   }
  }
 },
 "nbformat": 4,
 "nbformat_minor": 5
}
