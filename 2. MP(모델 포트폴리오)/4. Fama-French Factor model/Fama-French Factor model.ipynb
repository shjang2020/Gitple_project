{
 "cells": [
  {
   "cell_type": "code",
   "execution_count": 6,
   "id": "befa3892",
   "metadata": {},
   "outputs": [],
   "source": [
    "#!pip install pandas_datareader\n",
    "#!pip install linearmodels"
   ]
  },
  {
   "cell_type": "code",
   "execution_count": 7,
   "id": "28c6e2fd",
   "metadata": {},
   "outputs": [],
   "source": [
    "import pandas as pd\n",
    "import numpy as np\n",
    " \n",
    "from statsmodels.api import OLS, add_constant\n",
    "import pandas_datareader.data as web\n",
    " \n",
    "from linearmodels.asset_pricing import LinearFactorModel\n",
    " \n",
    "import matplotlib.pyplot as plt\n",
    "import seaborn as sns"
   ]
  },
  {
   "cell_type": "code",
   "execution_count": 12,
   "id": "69def897",
   "metadata": {},
   "outputs": [
    {
     "name": "stdout",
     "output_type": "stream",
     "text": [
      "<class 'pandas.core.frame.DataFrame'>\n",
      "PeriodIndex: 252 entries, 2000-01 to 2020-12\n",
      "Freq: M\n",
      "Data columns (total 6 columns):\n",
      " #   Column  Non-Null Count  Dtype  \n",
      "---  ------  --------------  -----  \n",
      " 0   Mkt-RF  252 non-null    float64\n",
      " 1   SMB     252 non-null    float64\n",
      " 2   HML     252 non-null    float64\n",
      " 3   RMW     252 non-null    float64\n",
      " 4   CMA     252 non-null    float64\n",
      " 5   RF      252 non-null    float64\n",
      "dtypes: float64(6)\n",
      "memory usage: 13.8 KB\n"
     ]
    }
   ],
   "source": [
    "# 2000~2020 월별 수익률\n",
    "ff_factor = 'F-F_Research_Data_5_Factors_2x3'\n",
    "ff_factor_data = web.DataReader(ff_factor, 'famafrench', start='2000', end='2020-12')[0]\n",
    "ff_factor_data.info()"
   ]
  },
  {
   "cell_type": "code",
   "execution_count": 13,
   "id": "3469e9cf",
   "metadata": {},
   "outputs": [
    {
     "name": "stdout",
     "output_type": "stream",
     "text": [
      "<class 'pandas.core.frame.DataFrame'>\n",
      "PeriodIndex: 252 entries, 2000-01 to 2020-12\n",
      "Freq: M\n",
      "Data columns (total 17 columns):\n",
      " #   Column  Non-Null Count  Dtype  \n",
      "---  ------  --------------  -----  \n",
      " 0   Food    252 non-null    float64\n",
      " 1   Mines   252 non-null    float64\n",
      " 2   Oil     252 non-null    float64\n",
      " 3   Clths   252 non-null    float64\n",
      " 4   Durbl   252 non-null    float64\n",
      " 5   Chems   252 non-null    float64\n",
      " 6   Cnsum   252 non-null    float64\n",
      " 7   Cnstr   252 non-null    float64\n",
      " 8   Steel   252 non-null    float64\n",
      " 9   FabPr   252 non-null    float64\n",
      " 10  Machn   252 non-null    float64\n",
      " 11  Cars    252 non-null    float64\n",
      " 12  Trans   252 non-null    float64\n",
      " 13  Utils   252 non-null    float64\n",
      " 14  Rtail   252 non-null    float64\n",
      " 15  Finan   252 non-null    float64\n",
      " 16  Other   252 non-null    float64\n",
      "dtypes: float64(17)\n",
      "memory usage: 35.4 KB\n"
     ]
    }
   ],
   "source": [
    "# 17개 산업군의 월별 포트폴리오 수익률\n",
    "ff_portfolio = '17_Industry_Portfolios'\n",
    "ff_portfolio_data = web.DataReader(ff_portfolio, 'famafrench', start='2000', end='2020-12')[0]\n",
    "ff_portfolio_data.info()"
   ]
  },
  {
   "cell_type": "code",
   "execution_count": 14,
   "id": "86933569",
   "metadata": {},
   "outputs": [
    {
     "name": "stdout",
     "output_type": "stream",
     "text": [
      "<class 'pandas.core.frame.DataFrame'>\n",
      "PeriodIndex: 252 entries, 2000-01 to 2020-12\n",
      "Freq: M\n",
      "Data columns (total 5 columns):\n",
      " #   Column  Non-Null Count  Dtype  \n",
      "---  ------  --------------  -----  \n",
      " 0   Mkt-RF  252 non-null    float64\n",
      " 1   SMB     252 non-null    float64\n",
      " 2   HML     252 non-null    float64\n",
      " 3   RMW     252 non-null    float64\n",
      " 4   CMA     252 non-null    float64\n",
      "dtypes: float64(5)\n",
      "memory usage: 11.8 KB\n",
      "<class 'pandas.core.frame.DataFrame'>\n",
      "PeriodIndex: 252 entries, 2000-01 to 2020-12\n",
      "Freq: M\n",
      "Data columns (total 3 columns):\n",
      " #   Column  Non-Null Count  Dtype  \n",
      "---  ------  --------------  -----  \n",
      " 0   Mkt-RF  252 non-null    float64\n",
      " 1   SMB     252 non-null    float64\n",
      " 2   HML     252 non-null    float64\n",
      "dtypes: float64(3)\n",
      "memory usage: 7.9 KB\n"
     ]
    }
   ],
   "source": [
    "# 포트폴리오 수익률 - 무위험 수익률 = 초과 수익률\n",
    "ff_portfolio_data = ff_portfolio_data.sub(ff_factor_data.RF, axis=0)\n",
    " \n",
    "# 무위험 수익률 변수를 제외한 5개 팩터 변수만 남김\n",
    "ff_factor_data = ff_factor_data.drop('RF', axis=1)\n",
    "ff_factor_data.info()\n",
    "\n",
    "# 무위험 수익률, 기업이익, 투자수준 변수를 제외한 3개 팩터 변수만 남김\n",
    "ff_factor_data_3 = ff_factor_data.drop('RMW', axis=1)\n",
    "ff_factor_data_3 = ff_factor_data_3.drop('CMA', axis=1)\n",
    "ff_factor_data_3.info()"
   ]
  },
  {
   "cell_type": "code",
   "execution_count": 16,
   "id": "265907ae",
   "metadata": {},
   "outputs": [
    {
     "name": "stdout",
     "output_type": "stream",
     "text": [
      "<class 'pandas.core.frame.DataFrame'>\n",
      "Index: 17 entries, Food  to Other\n",
      "Data columns (total 5 columns):\n",
      " #   Column  Non-Null Count  Dtype  \n",
      "---  ------  --------------  -----  \n",
      " 0   Mkt-RF  17 non-null     float64\n",
      " 1   SMB     17 non-null     float64\n",
      " 2   HML     17 non-null     float64\n",
      " 3   RMW     17 non-null     float64\n",
      " 4   CMA     17 non-null     float64\n",
      "dtypes: float64(5)\n",
      "memory usage: 1.3+ KB\n"
     ]
    }
   ],
   "source": [
    "# Step 1: Factor Exposures\n",
    "betas = []\n",
    "for industry in ff_portfolio_data:\n",
    "    step1 = OLS(endog=ff_portfolio_data.loc[ff_factor_data.index, industry], # 종속변수 \n",
    "                exog=add_constant(ff_factor_data) # 독립변수\n",
    "                ).fit()\n",
    "    betas.append(step1.params.drop('const'))\n",
    "    \n",
    "betas = pd.DataFrame(betas, \n",
    "                     columns=ff_factor_data.columns, \n",
    "                     index=ff_portfolio_data.columns)\n",
    "betas.info()"
   ]
  },
  {
   "cell_type": "code",
   "execution_count": 18,
   "id": "b39f4d83",
   "metadata": {},
   "outputs": [
    {
     "data": {
      "text/html": [
       "<div>\n",
       "<style scoped>\n",
       "    .dataframe tbody tr th:only-of-type {\n",
       "        vertical-align: middle;\n",
       "    }\n",
       "\n",
       "    .dataframe tbody tr th {\n",
       "        vertical-align: top;\n",
       "    }\n",
       "\n",
       "    .dataframe thead th {\n",
       "        text-align: right;\n",
       "    }\n",
       "</style>\n",
       "<table border=\"1\" class=\"dataframe\">\n",
       "  <thead>\n",
       "    <tr style=\"text-align: right;\">\n",
       "      <th></th>\n",
       "      <th>Mkt-RF</th>\n",
       "      <th>SMB</th>\n",
       "      <th>HML</th>\n",
       "      <th>RMW</th>\n",
       "      <th>CMA</th>\n",
       "    </tr>\n",
       "  </thead>\n",
       "  <tbody>\n",
       "    <tr>\n",
       "      <th>Food</th>\n",
       "      <td>0.649066</td>\n",
       "      <td>-0.099160</td>\n",
       "      <td>-0.054210</td>\n",
       "      <td>0.440742</td>\n",
       "      <td>0.393435</td>\n",
       "    </tr>\n",
       "    <tr>\n",
       "      <th>Mines</th>\n",
       "      <td>1.102413</td>\n",
       "      <td>0.541505</td>\n",
       "      <td>-0.056852</td>\n",
       "      <td>0.457603</td>\n",
       "      <td>0.356041</td>\n",
       "    </tr>\n",
       "    <tr>\n",
       "      <th>Oil</th>\n",
       "      <td>1.095080</td>\n",
       "      <td>0.265846</td>\n",
       "      <td>0.312341</td>\n",
       "      <td>0.563878</td>\n",
       "      <td>0.108612</td>\n",
       "    </tr>\n",
       "    <tr>\n",
       "      <th>Clths</th>\n",
       "      <td>1.125886</td>\n",
       "      <td>0.284427</td>\n",
       "      <td>0.305766</td>\n",
       "      <td>0.675941</td>\n",
       "      <td>-0.169435</td>\n",
       "    </tr>\n",
       "    <tr>\n",
       "      <th>Durbl</th>\n",
       "      <td>1.212690</td>\n",
       "      <td>0.489880</td>\n",
       "      <td>0.127000</td>\n",
       "      <td>0.479935</td>\n",
       "      <td>0.211053</td>\n",
       "    </tr>\n",
       "  </tbody>\n",
       "</table>\n",
       "</div>"
      ],
      "text/plain": [
       "         Mkt-RF       SMB       HML       RMW       CMA\n",
       "Food   0.649066 -0.099160 -0.054210  0.440742  0.393435\n",
       "Mines  1.102413  0.541505 -0.056852  0.457603  0.356041\n",
       "Oil    1.095080  0.265846  0.312341  0.563878  0.108612\n",
       "Clths  1.125886  0.284427  0.305766  0.675941 -0.169435\n",
       "Durbl  1.212690  0.489880  0.127000  0.479935  0.211053"
      ]
     },
     "execution_count": 18,
     "metadata": {},
     "output_type": "execute_result"
    }
   ],
   "source": [
    "betas.head()"
   ]
  },
  {
   "cell_type": "code",
   "execution_count": 19,
   "id": "ed5ba0be",
   "metadata": {},
   "outputs": [
    {
     "name": "stdout",
     "output_type": "stream",
     "text": [
      "<class 'pandas.core.frame.DataFrame'>\n",
      "PeriodIndex: 252 entries, 2000-01 to 2020-12\n",
      "Freq: M\n",
      "Data columns (total 5 columns):\n",
      " #   Column  Non-Null Count  Dtype  \n",
      "---  ------  --------------  -----  \n",
      " 0   Mkt-RF  252 non-null    float64\n",
      " 1   SMB     252 non-null    float64\n",
      " 2   HML     252 non-null    float64\n",
      " 3   RMW     252 non-null    float64\n",
      " 4   CMA     252 non-null    float64\n",
      "dtypes: float64(5)\n",
      "memory usage: 19.9 KB\n"
     ]
    }
   ],
   "source": [
    "# Step 2: Risk Premia\n",
    "lambdas = []\n",
    "for period in ff_portfolio_data.index:\n",
    "    step2 = OLS(endog=ff_portfolio_data.loc[period, betas.index], # 종속변수\n",
    "                exog=betas # 독립변수\n",
    "                ).fit()\n",
    "    lambdas.append(step2.params)\n",
    " \n",
    "lambdas = pd.DataFrame(lambdas, \n",
    "                       index=ff_portfolio_data.index,\n",
    "                       columns=betas.columns.tolist())\n",
    "lambdas.info()"
   ]
  },
  {
   "cell_type": "code",
   "execution_count": 20,
   "id": "7831d662",
   "metadata": {},
   "outputs": [
    {
     "data": {
      "text/html": [
       "<div>\n",
       "<style scoped>\n",
       "    .dataframe tbody tr th:only-of-type {\n",
       "        vertical-align: middle;\n",
       "    }\n",
       "\n",
       "    .dataframe tbody tr th {\n",
       "        vertical-align: top;\n",
       "    }\n",
       "\n",
       "    .dataframe thead th {\n",
       "        text-align: right;\n",
       "    }\n",
       "</style>\n",
       "<table border=\"1\" class=\"dataframe\">\n",
       "  <thead>\n",
       "    <tr style=\"text-align: right;\">\n",
       "      <th></th>\n",
       "      <th>Mkt-RF</th>\n",
       "      <th>SMB</th>\n",
       "      <th>HML</th>\n",
       "      <th>RMW</th>\n",
       "      <th>CMA</th>\n",
       "    </tr>\n",
       "    <tr>\n",
       "      <th>Date</th>\n",
       "      <th></th>\n",
       "      <th></th>\n",
       "      <th></th>\n",
       "      <th></th>\n",
       "      <th></th>\n",
       "    </tr>\n",
       "  </thead>\n",
       "  <tbody>\n",
       "    <tr>\n",
       "      <th>2000-01</th>\n",
       "      <td>-5.522403</td>\n",
       "      <td>18.647240</td>\n",
       "      <td>6.587611</td>\n",
       "      <td>-17.191387</td>\n",
       "      <td>30.874359</td>\n",
       "    </tr>\n",
       "    <tr>\n",
       "      <th>2000-02</th>\n",
       "      <td>1.718530</td>\n",
       "      <td>12.053538</td>\n",
       "      <td>-13.654845</td>\n",
       "      <td>-18.563605</td>\n",
       "      <td>-8.170504</td>\n",
       "    </tr>\n",
       "    <tr>\n",
       "      <th>2000-03</th>\n",
       "      <td>7.865748</td>\n",
       "      <td>-18.591428</td>\n",
       "      <td>3.493584</td>\n",
       "      <td>15.382971</td>\n",
       "      <td>-20.375556</td>\n",
       "    </tr>\n",
       "    <tr>\n",
       "      <th>2000-04</th>\n",
       "      <td>-2.359133</td>\n",
       "      <td>-4.862151</td>\n",
       "      <td>2.953755</td>\n",
       "      <td>4.693526</td>\n",
       "      <td>9.088537</td>\n",
       "    </tr>\n",
       "    <tr>\n",
       "      <th>2000-05</th>\n",
       "      <td>-3.649551</td>\n",
       "      <td>-12.936032</td>\n",
       "      <td>14.241829</td>\n",
       "      <td>2.107961</td>\n",
       "      <td>13.434190</td>\n",
       "    </tr>\n",
       "  </tbody>\n",
       "</table>\n",
       "</div>"
      ],
      "text/plain": [
       "           Mkt-RF        SMB        HML        RMW        CMA\n",
       "Date                                                         \n",
       "2000-01 -5.522403  18.647240   6.587611 -17.191387  30.874359\n",
       "2000-02  1.718530  12.053538 -13.654845 -18.563605  -8.170504\n",
       "2000-03  7.865748 -18.591428   3.493584  15.382971 -20.375556\n",
       "2000-04 -2.359133  -4.862151   2.953755   4.693526   9.088537\n",
       "2000-05 -3.649551 -12.936032  14.241829   2.107961  13.434190"
      ]
     },
     "execution_count": 20,
     "metadata": {},
     "output_type": "execute_result"
    }
   ],
   "source": [
    "lambdas.head()"
   ]
  },
  {
   "cell_type": "code",
   "execution_count": 21,
   "id": "51dae22f",
   "metadata": {},
   "outputs": [
    {
     "data": {
      "text/plain": [
       "Mkt-RF    0.575914\n",
       "SMB      -0.533012\n",
       "HML      -0.159653\n",
       "RMW       0.600983\n",
       "CMA      -0.040827\n",
       "dtype: float64"
      ]
     },
     "execution_count": 21,
     "metadata": {},
     "output_type": "execute_result"
    }
   ],
   "source": [
    "lambdas.mean()"
   ]
  },
  {
   "cell_type": "code",
   "execution_count": 22,
   "id": "2750a106",
   "metadata": {},
   "outputs": [
    {
     "data": {
      "image/png": "[encoded data removed]",
      "text/plain": [
       "<Figure size 864x288 with 1 Axes>"
      ]
     },
     "metadata": {
      "needs_background": "light"
     },
     "output_type": "display_data"
    }
   ],
   "source": [
    "lambdas.mean().sort_values().plot.barh(figsize=(12, 4))\n",
    "sns.despine()\n",
    "plt.tight_layout()"
   ]
  },
  {
   "cell_type": "code",
   "execution_count": 23,
   "id": "001102eb",
   "metadata": {},
   "outputs": [
    {
     "data": {
      "text/plain": [
       "Mkt-RF    0.123776\n",
       "SMB      -0.074645\n",
       "HML      -0.034495\n",
       "RMW       0.121432\n",
       "CMA      -0.006112\n",
       "dtype: float64"
      ]
     },
     "execution_count": 23,
     "metadata": {},
     "output_type": "execute_result"
    }
   ],
   "source": [
    "t = lambdas.mean().div(lambdas.std())\n",
    "t"
   ]
  },
  {
   "cell_type": "markdown",
   "id": "c0c7e7a5",
   "metadata": {},
   "source": [
    "아래는 2단계 추정의 결과로 산출된 계수 값들을 2년 단위로 이동평균을 계산하여 그래프를 그린 것이다. 계수 추정치가 시간의 흐름에 따라 크게 변하지는 않는지 확인하기 위한 것으로 보면 된다."
   ]
  },
  {
   "cell_type": "code",
   "execution_count": 24,
   "id": "26169279",
   "metadata": {},
   "outputs": [
    {
     "data": {
      "image/png": "[encoded data removed]",
      "text/plain": [
       "<Figure size 1008x504 with 5 Axes>"
      ]
     },
     "metadata": {
      "needs_background": "light"
     },
     "output_type": "display_data"
    }
   ],
   "source": [
    "window = 24  # months\n",
    "lambdas.rolling(window).mean().dropna().plot(lw=2,\n",
    "                                             figsize=(14, 7),\n",
    "                                             subplots=True,\n",
    "                                             sharey=True)\n",
    "sns.despine()\n",
    "plt.tight_layout()"
   ]
  },
  {
   "cell_type": "markdown",
   "id": "935c8df9",
   "metadata": {},
   "source": [
    "LinearModels 라이브러리는 statsmodels 라이브러리를 확장하여 패널 데이터를 다루기 위한 다양한 모델을 제공하고 파마-맥베스 회귀 모형도 제공한다. 위에서 2-step으로 직접구현한 결과와 동일한 계수 추정치를 얻을 수 있다."
   ]
  },
  {
   "cell_type": "code",
   "execution_count": 25,
   "id": "724f19fd",
   "metadata": {},
   "outputs": [
    {
     "name": "stdout",
     "output_type": "stream",
     "text": [
      "                      LinearFactorModel Estimation Summary                      \n",
      "================================================================================\n",
      "No. Test Portfolios:                 17   R-squared:                      0.6827\n",
      "No. Factors:                          5   J-statistic:                    12.909\n",
      "No. Observations:                   252   P-value                         0.3757\n",
      "Date:                  Mon, Nov 07 2022   Distribution:                 chi2(12)\n",
      "Time:                          11:54:36                                         \n",
      "Cov. Estimator:                  robust                                         \n",
      "                                                                                \n",
      "                            Risk Premia Estimates                             \n",
      "==============================================================================\n",
      "            Parameter  Std. Err.     T-stat    P-value    Lower CI    Upper CI\n",
      "------------------------------------------------------------------------------\n",
      "Mkt-RF         0.5759     0.3016     1.9098     0.0562     -0.0151      1.1670\n",
      "SMB           -0.5330     0.5277    -1.0100     0.3125     -1.5674      0.5014\n",
      "HML           -0.1597     0.3479    -0.4589     0.6463     -0.8415      0.5222\n",
      "RMW            0.6010     0.3545     1.6951     0.0901     -0.0939      1.2959\n",
      "CMA           -0.0408     0.5655    -0.0722     0.9424     -1.1492      1.0676\n",
      "==============================================================================\n",
      "\n",
      "Covariance estimator:\n",
      "HeteroskedasticCovariance\n",
      "See full_summary for complete results\n"
     ]
    }
   ],
   "source": [
    "mod = LinearFactorModel(portfolios=ff_portfolio_data, \n",
    "                        factors=ff_factor_data)\n",
    "res = mod.fit()\n",
    "print(res)"
   ]
  },
  {
   "cell_type": "markdown",
   "id": "b1d30deb",
   "metadata": {},
   "source": [
    "파마-맥베스의 연구에서는 시장의 초과 수익률 베타의 효과가 없고 사이즈(SMB), 가치(HML) 팩터의 효과가 있다는 것을 보여주었는데 분석 기간의 차이로 인한 것인지 2000부터 2020년까지의 데이터로 분석한 결과에서는 Mkt-RF는 유의한 팩터이고, SMB, HML은 유의하지 않은 팩터로 나타났다. Mkt-RF와 RMW만 유의한 팩터로 나타났는데, 영업이익이 꾸준하게 나오고 모멘텀이 좋은(Mkt-RF는 모멘텀 팩터로 볼 수 있다고 함) 자산에 투자하는 것이 좋다라고 해석해볼 수 있을 것 같다. 2000부터 2020년까지 어떤 주식들이 많이 올랐는지 생각해보면 어느 정도 말이 되는 것 같기도 하다. 구글, 페이스북, 애플, 마이크로소프트 등등. 이렇게 분석 기간에 따른 차이 효과를 보정하기 위해 여러 기간의 데이터를 섞어서 백테스팅을 하는 경우가 많다고 한다.\n",
    "\n",
    "full_summary를 프린트해보면 각각의 산업군에 대한 계수 추정치가 나오는데 산업군별로 유의한 팩터들이 다르게 나타나는 것을 볼 수 있다. 팩터들 중에서 Mkt-RF만이 모든 산업군에 걸쳐 유의한 팩터로 나타났는데, 2000년대 들어서 시장 모멘텀이 자산 수익률을 설명하는데 있어서 다른 팩터에 비해 중요한 요소가 되었다고 볼 수 있을 것 같다."
   ]
  },
  {
   "cell_type": "code",
   "execution_count": 26,
   "id": "b0d510cc",
   "metadata": {},
   "outputs": [
    {
     "name": "stdout",
     "output_type": "stream",
     "text": [
      "                      LinearFactorModel Estimation Summary                      \n",
      "================================================================================\n",
      "No. Test Portfolios:                 17   R-squared:                      0.6827\n",
      "No. Factors:                          5   J-statistic:                    12.909\n",
      "No. Observations:                   252   P-value                         0.3757\n",
      "Date:                  Mon, Nov 07 2022   Distribution:                 chi2(12)\n",
      "Time:                          11:54:36                                         \n",
      "Cov. Estimator:                  robust                                         \n",
      "                                                                                \n",
      "                            Risk Premia Estimates                             \n",
      "==============================================================================\n",
      "            Parameter  Std. Err.     T-stat    P-value    Lower CI    Upper CI\n",
      "------------------------------------------------------------------------------\n",
      "Mkt-RF         0.5759     0.3016     1.9098     0.0562     -0.0151      1.1670\n",
      "SMB           -0.5330     0.5277    -1.0100     0.3125     -1.5674      0.5014\n",
      "HML           -0.1597     0.3479    -0.4589     0.6463     -0.8415      0.5222\n",
      "RMW            0.6010     0.3545     1.6951     0.0901     -0.0939      1.2959\n",
      "CMA           -0.0408     0.5655    -0.0722     0.9424     -1.1492      1.0676\n",
      "\n",
      "\n",
      "                              Food  Coefficients                              \n",
      "==============================================================================\n",
      "            Parameter  Std. Err.     T-stat    P-value    Lower CI    Upper CI\n",
      "------------------------------------------------------------------------------\n",
      "alpha         -0.0227     0.1265    -0.1794     0.8576     -0.2707      0.2253\n",
      "Mkt-RF         0.6491     0.0444     14.622     0.0000      0.5621      0.7361\n",
      "SMB           -0.0992     0.0702    -1.4130     0.1576     -0.2367      0.0384\n",
      "HML           -0.0542     0.0767    -0.7063     0.4800     -0.2046      0.0962\n",
      "RMW            0.4407     0.0693     6.3603     0.0000      0.3049      0.5766\n",
      "CMA            0.3934     0.1096     3.5898     0.0003      0.1786      0.6082\n",
      "\n",
      "\n",
      "                              Mines Coefficients                              \n",
      "==============================================================================\n",
      "alpha          0.2404     0.2578     0.9324     0.3511     -0.2650      0.7458\n",
      "Mkt-RF         1.1024     0.1252     8.8040     0.0000      0.8570      1.3478\n",
      "SMB            0.5415     0.1575     3.4385     0.0006      0.2328      0.8502\n",
      "HML           -0.0569     0.1827    -0.3111     0.7557     -0.4150      0.3013\n",
      "RMW            0.4576     0.2219     2.0619     0.0392      0.0226      0.8926\n",
      "CMA            0.3560     0.2923     1.2182     0.2232     -0.2168      0.9289\n",
      "\n",
      "\n",
      "                              Oil   Coefficients                              \n",
      "==============================================================================\n",
      "alpha         -0.3114     0.2956    -1.0534     0.2922     -0.8907      0.2680\n",
      "Mkt-RF         1.0951     0.1049     10.441     0.0000      0.8895      1.3006\n",
      "SMB            0.2658     0.1311     2.0274     0.0426      0.0088      0.5228\n",
      "HML            0.3123     0.1881     1.6609     0.0967     -0.0562      0.6809\n",
      "RMW            0.5639     0.1863     3.0266     0.0025      0.1987      0.9290\n",
      "CMA            0.1086     0.2239     0.4850     0.6276     -0.3303      0.5475\n",
      "\n",
      "\n",
      "                              Clths Coefficients                              \n",
      "==============================================================================\n",
      "alpha          0.2351     0.1786     1.3161     0.1881     -0.1150      0.5852\n",
      "Mkt-RF         1.1259     0.0694     16.224     0.0000      0.9899      1.2619\n",
      "SMB            0.2844     0.1093     2.6015     0.0093      0.0701      0.4987\n",
      "HML            0.3058     0.1086     2.8143     0.0049      0.0928      0.5187\n",
      "RMW            0.6759     0.1169     5.7805     0.0000      0.4468      0.9051\n",
      "CMA           -0.1694     0.1631    -1.0390     0.2988     -0.4891      0.1502\n",
      "\n",
      "\n",
      "                              Durbl Coefficients                              \n",
      "==============================================================================\n",
      "alpha         -0.0489     0.2857    -0.1713     0.8640     -0.6090      0.5111\n",
      "Mkt-RF         1.2127     0.0570     21.282     0.0000      1.1010      1.3244\n",
      "SMB            0.4899     0.0863     5.6785     0.0000      0.3208      0.6590\n",
      "HML            0.1270     0.0939     1.3530     0.1760     -0.0570      0.3110\n",
      "RMW            0.4799     0.0973     4.9314     0.0000      0.2892      0.6707\n",
      "CMA            0.2111     0.1418     1.4883     0.1367     -0.0669      0.4890\n",
      "\n",
      "\n",
      "                              Chems Coefficients                              \n",
      "==============================================================================\n",
      "alpha         -0.1645     0.2001    -0.8224     0.4109     -0.5567      0.2276\n",
      "Mkt-RF         1.2282     0.0619     19.857     0.0000      1.1070      1.3494\n",
      "SMB            0.1171     0.0769     1.5222     0.1280     -0.0337      0.2679\n",
      "HML            0.2661     0.1105     2.4091     0.0160      0.0496      0.4826\n",
      "RMW            0.4469     0.1044     4.2801     0.0000      0.2422      0.6515\n",
      "CMA           -0.0130     0.1530    -0.0847     0.9325     -0.3129      0.2869\n",
      "\n",
      "\n",
      "                              Cnsum Coefficients                              \n",
      "==============================================================================\n",
      "alpha         -0.0305     0.1300    -0.2348     0.8143     -0.2853      0.2242\n",
      "Mkt-RF         0.6836     0.0423     16.158     0.0000      0.6007      0.7666\n",
      "SMB           -0.3003     0.0883    -3.4023     0.0007     -0.4733     -0.1273\n",
      "HML           -0.1842     0.0830    -2.2185     0.0265     -0.3470     -0.0215\n",
      "RMW            0.2090     0.0887     2.3569     0.0184      0.0352      0.3828\n",
      "CMA            0.5821     0.1294     4.4975     0.0000      0.3284      0.8358\n",
      "\n",
      "\n",
      "                              Cnstr Coefficients                              \n",
      "==============================================================================\n",
      "alpha          0.1360     0.2274     0.5983     0.5497     -0.3096      0.5817\n",
      "Mkt-RF         1.1376     0.0572     19.896     0.0000      1.0255      1.2497\n",
      "SMB            0.3094     0.0819     3.7777     0.0002      0.1489      0.4699\n",
      "HML            0.2405     0.0939     2.5604     0.0105      0.0564      0.4246\n",
      "RMW            0.3563     0.1063     3.3501     0.0008      0.1478      0.5647\n",
      "CMA           -0.0362     0.1480    -0.2447     0.8067     -0.3264      0.2539\n",
      "\n",
      "\n",
      "                              Steel Coefficients                              \n",
      "==============================================================================\n",
      "alpha         -0.2688     0.1874    -1.4346     0.1514     -0.6361      0.0985\n",
      "Mkt-RF         1.5600     0.0930     16.775     0.0000      1.3777      1.7423\n",
      "SMB            0.4281     0.1258     3.4043     0.0007      0.1816      0.6746\n",
      "HML            0.1566     0.1462     1.0710     0.2842     -0.1300      0.4433\n",
      "RMW           -0.0632     0.1533    -0.4125     0.6800     -0.3636      0.2372\n",
      "CMA            0.0129     0.2167     0.0596     0.9525     -0.4119      0.4377\n",
      "\n",
      "\n",
      "                              FabPr Coefficients                              \n",
      "==============================================================================\n",
      "alpha          0.1705     0.1594     1.0698     0.2847     -0.1419      0.4829\n",
      "Mkt-RF         1.1319     0.0607     18.637     0.0000      1.0129      1.2510\n",
      "SMB            0.3398     0.0885     3.8407     0.0001      0.1664      0.5132\n",
      "HML            0.0866     0.0849     1.0201     0.3077     -0.0798      0.2529\n",
      "RMW            0.6155     0.1113     5.5311     0.0000      0.3974      0.8336\n",
      "CMA            0.0780     0.1226     0.6364     0.5245     -0.1622      0.3182\n",
      "\n",
      "\n",
      "                              Machn Coefficients                              \n",
      "==============================================================================\n",
      "alpha          0.1787     0.1191     1.5010     0.1334     -0.0547      0.4121\n",
      "Mkt-RF         1.2744     0.0491     25.931     0.0000      1.1781      1.3708\n",
      "SMB            0.0516     0.0981     0.5257     0.5991     -0.1408      0.2440\n",
      "HML           -0.2929     0.0841    -3.4834     0.0005     -0.4576     -0.1281\n",
      "RMW           -0.4987     0.1070    -4.6624     0.0000     -0.7084     -0.2891\n",
      "CMA           -0.1172     0.1538    -0.7621     0.4460     -0.4185      0.1842\n",
      "\n",
      "\n",
      "                              Cars  Coefficients                              \n",
      "==============================================================================\n",
      "alpha         -0.1115     0.2707    -0.4119     0.6804     -0.6420      0.4190\n",
      "Mkt-RF         1.4773     0.1097     13.473     0.0000      1.2624      1.6923\n",
      "SMB            0.3417     0.1414     2.4170     0.0157      0.0646      0.6188\n",
      "HML           -0.0081     0.1488    -0.0546     0.9565     -0.2998      0.2836\n",
      "RMW            0.6549     0.2024     3.2362     0.0012      0.2582      1.0515\n",
      "CMA            0.3223     0.2111     1.5268     0.1268     -0.0914      0.7360\n",
      "\n",
      "\n",
      "                              Trans Coefficients                              \n",
      "==============================================================================\n",
      "alpha          0.0172     0.1534     0.1121     0.9107     -0.2834      0.3178\n",
      "Mkt-RF         1.0868     0.0509     21.362     0.0000      0.9871      1.1866\n",
      "SMB            0.1680     0.0753     2.2319     0.0256      0.0205      0.3155\n",
      "HML            0.2474     0.0732     3.3810     0.0007      0.1040      0.3908\n",
      "RMW            0.5416     0.0867     6.2462     0.0000      0.3717      0.7116\n",
      "CMA            0.0655     0.1103     0.5938     0.5526     -0.1507      0.2817\n",
      "\n",
      "\n",
      "                              Utils Coefficients                              \n",
      "==============================================================================\n",
      "alpha          0.2246     0.1922     1.1682     0.2427     -0.1522      0.6014\n",
      "Mkt-RF         0.5492     0.0660     8.3236     0.0000      0.4199      0.6785\n",
      "SMB           -0.1258     0.0891    -1.4113     0.1581     -0.3004      0.0489\n",
      "HML            0.0536     0.1136     0.4719     0.6370     -0.1690      0.2761\n",
      "RMW            0.2077     0.1138     1.8243     0.0681     -0.0154      0.4308\n",
      "CMA            0.4385     0.1725     2.5418     0.0110      0.1004      0.7767\n",
      "\n",
      "\n",
      "                              Rtail Coefficients                              \n",
      "==============================================================================\n",
      "alpha         -0.0722     0.1340    -0.5387     0.5901     -0.3347      0.1904\n",
      "Mkt-RF         0.9324     0.0481     19.383     0.0000      0.8381      1.0267\n",
      "SMB           -0.0194     0.0755    -0.2574     0.7969     -0.1673      0.1285\n",
      "HML           -0.1060     0.0902    -1.1754     0.2399     -0.2828      0.0708\n",
      "RMW            0.4847     0.0886     5.4686     0.0000      0.3110      0.6584\n",
      "CMA            0.0856     0.1385     0.6182     0.5364     -0.1858      0.3570\n",
      "\n",
      "\n",
      "                              Finan Coefficients                              \n",
      "==============================================================================\n",
      "alpha          0.1100     0.1247     0.8818     0.3779     -0.1345      0.3544\n",
      "Mkt-RF         1.0389     0.0322     32.216     0.0000      0.9757      1.1021\n",
      "SMB           -0.1576     0.0619    -2.5482     0.0108     -0.2789     -0.0364\n",
      "HML            0.8417     0.0640     13.156     0.0000      0.7163      0.9671\n",
      "RMW           -0.1646     0.0641    -2.5679     0.0102     -0.2902     -0.0390\n",
      "CMA           -0.2333     0.0838    -2.7832     0.0054     -0.3975     -0.0690\n",
      "\n",
      "\n",
      "                              Other Coefficients                              \n",
      "==============================================================================\n",
      "alpha         -0.0695     0.1255    -0.5538     0.5797     -0.3155      0.1765\n",
      "Mkt-RF         1.0374     0.0175     59.265     0.0000      1.0031      1.0717\n",
      "SMB           -0.0402     0.0342    -1.1774     0.2390     -0.1072      0.0267\n",
      "HML           -0.1689     0.0277    -6.0942     0.0000     -0.2232     -0.1146\n",
      "RMW           -0.1287     0.0376    -3.4252     0.0006     -0.2023     -0.0550\n",
      "CMA           -0.1029     0.0579    -1.7762     0.0757     -0.2163      0.0106\n",
      "==============================================================================\n",
      "\n",
      "Covariance estimator:\n",
      "HeteroskedasticCovariance\n",
      "See full_summary for complete results\n"
     ]
    }
   ],
   "source": [
    "print(res.full_summary)"
   ]
  },
  {
   "cell_type": "code",
   "execution_count": null,
   "id": "5d2d8c7a",
   "metadata": {},
   "outputs": [],
   "source": []
  }
 ],
 "metadata": {
  "kernelspec": {
   "display_name": "Python 3 (ipykernel)",
   "language": "python",
   "name": "python3"
  },
  "language_info": {
   "codemirror_mode": {
    "name": "ipython",
    "version": 3
   },
   "file_extension": ".py",
   "mimetype": "text/x-python",
   "name": "python",
   "nbconvert_exporter": "python",
   "pygments_lexer": "ipython3",
   "version": "3.9.12"
  }
 },
 "nbformat": 4,
 "nbformat_minor": 5
}
