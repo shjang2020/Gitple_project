{
 "cells": [
  {
   "cell_type": "markdown",
   "id": "8bb9a78d",
   "metadata": {},
   "source": [
    "**WARNING POINT**"
   ]
  },
  {
   "cell_type": "markdown",
   "id": "08f7f573",
   "metadata": {},
   "source": [
    "- KOSIS 공유서비스를 통한 대용량통계자료 크롤링 과정에서 데이터 내부의 다양한 피쳐 및 기간, 유저아이디 등에 따라 URL이 달라지는 이슈가 있음\n",
    "- 현재는 개인 아이디를 활용하여 URL 생성 및 데이터 크롤링을 진행하였지만, 만약 원하는 데이터 상태가 변할 경우 URL 삭제 후 재생성을 진행해야하기 때문에 회사 내의 계정이 있으면 좋을 것 같다고 생각함"
   ]
  },
  {
   "cell_type": "code",
   "execution_count": 2,
   "id": "b586960c",
   "metadata": {
    "scrolled": true
   },
   "outputs": [],
   "source": [
    "# import FinanceDataReader as fdr\n",
    "import pandas as pd\n",
    "import numpy as np\n",
    "import requests\n",
    "import pprint\n",
    "from tqdm import tqdm\n",
    "import time\n",
    "\n",
    "from random import uniform, seed\n",
    "seed(1)\n",
    "import re\n",
    "\n",
    "from bs4 import BeautifulSoup\n",
    "from statsmodels.tsa.seasonal import seasonal_decompose\n",
    "\n",
    "import statsmodels.api as sm\n",
    "import matplotlib.pyplot as plt"
   ]
  },
  {
   "cell_type": "code",
   "execution_count": 3,
   "id": "1db70721",
   "metadata": {},
   "outputs": [],
   "source": [
    "start_date = '201001'\n",
    "end_date = '202208'\n",
    "term = 152"
   ]
  },
  {
   "cell_type": "code",
   "execution_count": 4,
   "id": "12125f5e",
   "metadata": {},
   "outputs": [],
   "source": [
    "#### 데이터 크롤링\n",
    "def data_crawling(url, col_cnt):\n",
    "    response = requests.get(url)\n",
    "    soup = BeautifulSoup(response.content, 'html.parser')\n",
    "    data = soup.find_all('cell')\n",
    "    \n",
    "    col_lst =[]\n",
    "    for i in range(term+col_cnt):\n",
    "        col_lst.append(data[i].find('data').get_text())\n",
    "\n",
    "    row_lst = []\n",
    "    for i in range(term+col_cnt,len(data),term+col_cnt):\n",
    "        row_l = []\n",
    "        for a in range(i,i+term+col_cnt):\n",
    "            row_l.append(data[a].find('data').get_text())\n",
    "        row_lst.append(row_l)\n",
    "        \n",
    "    data = pd.DataFrame(row_lst, columns= col_lst)\n",
    "    data.iloc[:,col_cnt:]= data.iloc[:,col_cnt:].astype(float)\n",
    "    data.iloc[0,col_cnt:] = data.iloc[:,col_cnt:].sum(axis=0)\n",
    "    return data.iloc[0:1,col_cnt:]"
   ]
  },
  {
   "cell_type": "code",
   "execution_count": 5,
   "id": "5711c186",
   "metadata": {},
   "outputs": [],
   "source": [
    "#### 계절성 제거\n",
    "def seasonal_remove(data):\n",
    "    data_value = data.T\n",
    "    data_value = data_value.reset_index()\n",
    "    data_value['index'] = pd.to_datetime(data_value['index'],format = '%Y%m')\n",
    "\n",
    "    data_value.columns=['index', 'value']\n",
    "    data_value.set_index('index',inplace=True)\n",
    "\n",
    "    result_mul = seasonal_decompose(data_value['value'], model='multiplicative', extrapolate_trend='freq')\n",
    "    data.iloc[:,:] = data_value['value']/result_mul.seasonal\n",
    "    return data"
   ]
  },
  {
   "cell_type": "markdown",
   "id": "de906ff1",
   "metadata": {},
   "source": [
    "#### 광공업생산지수"
   ]
  },
  {
   "cell_type": "code",
   "execution_count": 6,
   "id": "05a49e38",
   "metadata": {
    "scrolled": false
   },
   "outputs": [
    {
     "name": "stderr",
     "output_type": "stream",
     "text": [
      "/Users/apple/opt/anaconda3/lib/python3.9/site-packages/bs4/builder/__init__.py:545: XMLParsedAsHTMLWarning: It looks like you're parsing an XML document using an HTML parser. If this really is an HTML document (maybe it's XHTML?), you can ignore or filter this warning. If it's XML, you should know that using an XML parser will be more reliable. To parse this document as XML, make sure you have the lxml package installed, and pass the keyword argument `features=\"xml\"` into the BeautifulSoup constructor.\n",
      "  warnings.warn(\n"
     ]
    }
   ],
   "source": [
    "광공업_url = f'https://kosis.kr/openapi/statisticsBigData.do?method=getList&apiKey=ODY0ZWE0ZGE3NGZkNjNiZGIwMzhiNDRhYTI2ZTE0MzM=&format=xls&userStatsId=jjang2142/101/DT_1F01501/3/1/20221025135506&prdSe=M&startPrdDe={start_date}&endPrdDe={end_date}'\n",
    "\n",
    "광공업생산지수 = data_crawling(광공업_url,6)"
   ]
  },
  {
   "cell_type": "markdown",
   "id": "a2f1d4ff",
   "metadata": {},
   "source": [
    "#### 서비스업생산지수"
   ]
  },
  {
   "cell_type": "code",
   "execution_count": 7,
   "id": "15b049d5",
   "metadata": {
    "scrolled": true
   },
   "outputs": [
    {
     "name": "stderr",
     "output_type": "stream",
     "text": [
      "/Users/apple/opt/anaconda3/lib/python3.9/site-packages/bs4/builder/__init__.py:545: XMLParsedAsHTMLWarning: It looks like you're parsing an XML document using an HTML parser. If this really is an HTML document (maybe it's XHTML?), you can ignore or filter this warning. If it's XML, you should know that using an XML parser will be more reliable. To parse this document as XML, make sure you have the lxml package installed, and pass the keyword argument `features=\"xml\"` into the BeautifulSoup constructor.\n",
      "  warnings.warn(\n"
     ]
    }
   ],
   "source": [
    "서비스업_url = f'https://kosis.kr/openapi/statisticsBigData.do?method=getList&apiKey=ODY0ZWE0ZGE3NGZkNjNiZGIwMzhiNDRhYTI2ZTE0MzM=&format=xls&userStatsId=jjang2142/101/DT_1KS2015/3/1/20221025135852&prdSe=M&startPrdDe={start_date}&endPrdDe={end_date}'\n",
    "\n",
    "서비스업생산지수=data_crawling(서비스업_url,4)"
   ]
  },
  {
   "cell_type": "markdown",
   "id": "b29bf9f1",
   "metadata": {},
   "source": [
    "#### 판매액지수"
   ]
  },
  {
   "cell_type": "code",
   "execution_count": 8,
   "id": "9eebd26a",
   "metadata": {
    "scrolled": true
   },
   "outputs": [
    {
     "name": "stderr",
     "output_type": "stream",
     "text": [
      "/Users/apple/opt/anaconda3/lib/python3.9/site-packages/bs4/builder/__init__.py:545: XMLParsedAsHTMLWarning: It looks like you're parsing an XML document using an HTML parser. If this really is an HTML document (maybe it's XHTML?), you can ignore or filter this warning. If it's XML, you should know that using an XML parser will be more reliable. To parse this document as XML, make sure you have the lxml package installed, and pass the keyword argument `features=\"xml\"` into the BeautifulSoup constructor.\n",
      "  warnings.warn(\n"
     ]
    }
   ],
   "source": [
    "판매액_url = f'https://kosis.kr/openapi/statisticsBigData.do?method=getList&apiKey=ODY0ZWE0ZGE3NGZkNjNiZGIwMzhiNDRhYTI2ZTE0MzM=&format=xls&userStatsId=jjang2142/101/DT_1K31012/3/1/20221025153504&prdSe=M&startPrdDe={start_date}&endPrdDe={end_date}'\n",
    "\n",
    "판매액지수=data_crawling(판매액_url,4)"
   ]
  },
  {
   "cell_type": "markdown",
   "id": "f7d73361",
   "metadata": {},
   "source": [
    "#### 설비투자지수"
   ]
  },
  {
   "cell_type": "code",
   "execution_count": 9,
   "id": "61a6556b",
   "metadata": {
    "scrolled": false
   },
   "outputs": [
    {
     "name": "stderr",
     "output_type": "stream",
     "text": [
      "/Users/apple/opt/anaconda3/lib/python3.9/site-packages/bs4/builder/__init__.py:545: XMLParsedAsHTMLWarning: It looks like you're parsing an XML document using an HTML parser. If this really is an HTML document (maybe it's XHTML?), you can ignore or filter this warning. If it's XML, you should know that using an XML parser will be more reliable. To parse this document as XML, make sure you have the lxml package installed, and pass the keyword argument `features=\"xml\"` into the BeautifulSoup constructor.\n",
      "  warnings.warn(\n"
     ]
    }
   ],
   "source": [
    "설비투자_url = f'https://kosis.kr/openapi/statisticsBigData.do?method=getList&apiKey=ODY0ZWE0ZGE3NGZkNjNiZGIwMzhiNDRhYTI2ZTE0MzM=&format=xls&userStatsId=jjang2142/101/DT_1F70011/3/1/20221025154030&prdSe=M&startPrdDe={start_date}&endPrdDe={end_date}'\n",
    "\n",
    "설비투자지수=data_crawling(설비투자_url, 4)"
   ]
  },
  {
   "cell_type": "markdown",
   "id": "c73f9b70",
   "metadata": {},
   "source": [
    "#### 건설기성액(계절)"
   ]
  },
  {
   "cell_type": "code",
   "execution_count": 10,
   "id": "1495fccc",
   "metadata": {
    "scrolled": true
   },
   "outputs": [
    {
     "name": "stderr",
     "output_type": "stream",
     "text": [
      "/Users/apple/opt/anaconda3/lib/python3.9/site-packages/bs4/builder/__init__.py:545: XMLParsedAsHTMLWarning: It looks like you're parsing an XML document using an HTML parser. If this really is an HTML document (maybe it's XHTML?), you can ignore or filter this warning. If it's XML, you should know that using an XML parser will be more reliable. To parse this document as XML, make sure you have the lxml package installed, and pass the keyword argument `features=\"xml\"` into the BeautifulSoup constructor.\n",
      "  warnings.warn(\n"
     ]
    }
   ],
   "source": [
    "건설기성액_url = f'https://kosis.kr/openapi/statisticsBigData.do?method=getList&apiKey=ODY0ZWE0ZGE3NGZkNjNiZGIwMzhiNDRhYTI2ZTE0MzM=&format=xls&userStatsId=jjang2142/101/DT_1G18003/3/1/20221019162725&prdSe=M&startPrdDe={start_date}&endPrdDe={end_date}'\n",
    "\n",
    "건설기성액_계절 = data_crawling(건설기성액_url,4)"
   ]
  },
  {
   "cell_type": "markdown",
   "id": "6d79f0a9",
   "metadata": {},
   "source": [
    "#### 취업자"
   ]
  },
  {
   "cell_type": "code",
   "execution_count": 11,
   "id": "33407ac6",
   "metadata": {
    "scrolled": false
   },
   "outputs": [
    {
     "name": "stderr",
     "output_type": "stream",
     "text": [
      "/Users/apple/opt/anaconda3/lib/python3.9/site-packages/bs4/builder/__init__.py:545: XMLParsedAsHTMLWarning: It looks like you're parsing an XML document using an HTML parser. If this really is an HTML document (maybe it's XHTML?), you can ignore or filter this warning. If it's XML, you should know that using an XML parser will be more reliable. To parse this document as XML, make sure you have the lxml package installed, and pass the keyword argument `features=\"xml\"` into the BeautifulSoup constructor.\n",
      "  warnings.warn(\n"
     ]
    }
   ],
   "source": [
    "취업자_url = f'https://kosis.kr/openapi/statisticsBigData.do?method=getList&apiKey=ODY0ZWE0ZGE3NGZkNjNiZGIwMzhiNDRhYTI2ZTE0MzM=&format=xls&userStatsId=jjang2142/101/DT_1DA9001S/3/1/20221021161107&prdSe=M&startPrdDe={start_date}&endPrdDe={end_date}'\n",
    "\n",
    "취업자 = data_crawling(취업자_url, 4)"
   ]
  },
  {
   "cell_type": "markdown",
   "id": "22d9813e",
   "metadata": {},
   "source": [
    "#### 수출_수입 - 계절성 제거 안함"
   ]
  },
  {
   "cell_type": "code",
   "execution_count": 12,
   "id": "3a7f6b22",
   "metadata": {},
   "outputs": [
    {
     "name": "stderr",
     "output_type": "stream",
     "text": [
      "/Users/apple/opt/anaconda3/lib/python3.9/site-packages/bs4/builder/__init__.py:545: XMLParsedAsHTMLWarning: It looks like you're parsing an XML document using an HTML parser. If this really is an HTML document (maybe it's XHTML?), you can ignore or filter this warning. If it's XML, you should know that using an XML parser will be more reliable. To parse this document as XML, make sure you have the lxml package installed, and pass the keyword argument `features=\"xml\"` into the BeautifulSoup constructor.\n",
      "  warnings.warn(\n",
      "/Users/apple/opt/anaconda3/lib/python3.9/site-packages/bs4/builder/__init__.py:545: XMLParsedAsHTMLWarning: It looks like you're parsing an XML document using an HTML parser. If this really is an HTML document (maybe it's XHTML?), you can ignore or filter this warning. If it's XML, you should know that using an XML parser will be more reliable. To parse this document as XML, make sure you have the lxml package installed, and pass the keyword argument `features=\"xml\"` into the BeautifulSoup constructor.\n",
      "  warnings.warn(\n",
      "/var/folders/vn/zs_lnqt167q421x3csfv0syr0000gn/T/ipykernel_19699/2824687616.py:11: SettingWithCopyWarning: \n",
      "A value is trying to be set on a copy of a slice from a DataFrame\n",
      "\n",
      "See the caveats in the documentation: https://pandas.pydata.org/pandas-docs/stable/user_guide/indexing.html#returning-a-view-versus-a-copy\n",
      "  data.iloc[:,:] = data_value['value']/result_mul.seasonal\n",
      "/var/folders/vn/zs_lnqt167q421x3csfv0syr0000gn/T/ipykernel_19699/2824687616.py:11: SettingWithCopyWarning: \n",
      "A value is trying to be set on a copy of a slice from a DataFrame\n",
      "\n",
      "See the caveats in the documentation: https://pandas.pydata.org/pandas-docs/stable/user_guide/indexing.html#returning-a-view-versus-a-copy\n",
      "  data.iloc[:,:] = data_value['value']/result_mul.seasonal\n"
     ]
    }
   ],
   "source": [
    "수v1_url = f'https://kosis.kr/openapi/statisticsBigData.do?method=getList&apiKey=ODY0ZWE0ZGE3NGZkNjNiZGIwMzhiNDRhYTI2ZTE0MzM=&format=xls&userStatsId=jjang2142/360/DT_1R11001_FRM101_2019/3/1/20221019171428&prdSe=M&startPrdDe={start_date}&endPrdDe=201912'\n",
    "\n",
    "response = requests.get(수v1_url)\n",
    "soup = BeautifulSoup(response.content, 'html.parser')\n",
    "data = soup.find_all('cell')\n",
    "\n",
    "col_lst =[]\n",
    "for i in range(124):\n",
    "    col_lst.append(data[i].find('data').get_text())\n",
    "row_lst = []\n",
    "for i in range(124,372,124):\n",
    "    row_l = []\n",
    "    for a in range(i,i+124):\n",
    "        row_l.append(data[a].find('data').get_text())\n",
    "    row_lst.append(row_l)\n",
    "\n",
    "수_v1 = pd.DataFrame(row_lst, columns= col_lst)\n",
    "수_v1.iloc[:,4:] = 수_v1.iloc[:,4:].astype(float)\n",
    "##################################################################################\n",
    "수v2_url = f'https://kosis.kr/openapi/statisticsBigData.do?method=getList&apiKey=ODY0ZWE0ZGE3NGZkNjNiZGIwMzhiNDRhYTI2ZTE0MzM=&format=xls&userStatsId=jjang2142/360/DT_1R11001_FRM101/3/1/20221019170905&prdSe=M&startPrdDe=202001&endPrdDe={end_date}'\n",
    "\n",
    "response = requests.get(수v2_url)\n",
    "soup = BeautifulSoup(response.content, 'html.parser')\n",
    "data = soup.find_all('cell')\n",
    "\n",
    "col_lst =[]\n",
    "for i in range(36):\n",
    "    col_lst.append(data[i].find('data').get_text())\n",
    "row_lst = []\n",
    "for i in range(36,108,36):\n",
    "    row_l = []\n",
    "    for a in range(i,i+36):\n",
    "        row_l.append(data[a].find('data').get_text())\n",
    "    row_lst.append(row_l)\n",
    "\n",
    "수_v2 = pd.DataFrame(row_lst, columns= col_lst)\n",
    "수_v2.iloc[:,4:] = 수_v2.iloc[:,4:].astype(float)\n",
    "##################################################################################\n",
    "수출입 = pd.concat([수_v1,수_v2.iloc[:,4:]],axis=1).iloc[:,4:]\n",
    "수출 = 수출입.iloc[0:1,:]\n",
    "수입 = 수출입.iloc[1:,:]\n",
    "\n",
    "# 계절성 제거 \n",
    "수출=seasonal_remove(수출)\n",
    "수입=seasonal_remove(수입)"
   ]
  },
  {
   "cell_type": "markdown",
   "id": "c9307ddb",
   "metadata": {},
   "source": [
    "#### 기업경기실사지수"
   ]
  },
  {
   "cell_type": "code",
   "execution_count": 13,
   "id": "ea0de7da",
   "metadata": {
    "scrolled": false
   },
   "outputs": [
    {
     "name": "stderr",
     "output_type": "stream",
     "text": [
      "/Users/apple/opt/anaconda3/lib/python3.9/site-packages/bs4/builder/__init__.py:545: XMLParsedAsHTMLWarning: It looks like you're parsing an XML document using an HTML parser. If this really is an HTML document (maybe it's XHTML?), you can ignore or filter this warning. If it's XML, you should know that using an XML parser will be more reliable. To parse this document as XML, make sure you have the lxml package installed, and pass the keyword argument `features=\"xml\"` into the BeautifulSoup constructor.\n",
      "  warnings.warn(\n"
     ]
    }
   ],
   "source": [
    "기업경기_url = f'https://kosis.kr/openapi/statisticsBigData.do?method=getList&apiKey=ODY0ZWE0ZGE3NGZkNjNiZGIwMzhiNDRhYTI2ZTE0MzM=&format=xls&userStatsId=jjang2142/301/DT_512Y013/3/1/20221019172905&prdSe=M&startPrdDe={start_date}&endPrdDe={end_date}'\n",
    "\n",
    "기업경기실사지수 = data_crawling(기업경기_url, 6)\n",
    "기업경기실사지수=seasonal_remove(기업경기실사지수)"
   ]
  },
  {
   "cell_type": "markdown",
   "id": "5033fa46",
   "metadata": {},
   "source": [
    "---"
   ]
  },
  {
   "cell_type": "markdown",
   "id": "fd6e945f",
   "metadata": {},
   "source": [
    "**x축 - 경제지표의 전월대비 증감\\\n",
    "y축 - 지표의 순환변동치(변동 추세의 상하회 정도)**"
   ]
  },
  {
   "cell_type": "markdown",
   "id": "1189860a",
   "metadata": {},
   "source": [
    "#### 경기순환시계"
   ]
  },
  {
   "cell_type": "markdown",
   "id": "db4d1126",
   "metadata": {},
   "source": [
    "그래프 상에서 보여지는 값과 실제 데이터를 불러온 값을 비교해봤을 때 정확한 값이 나오지 않는다.\n",
    "\n",
    "추출한 값에 문제가 있는 것인지 혹은 지표상에 사용한 값이 다른 것인지 파악을 해야할 것으로 보인다.\\\n",
    "한마디로 경기순환시계에 대한 세부적인 내용을 파악해야할 것으로 보인다.\n",
    "\n",
    "\n",
    "주식형, 원자재형, 채권형 등 어떤식으로 분류하는지, 어떤 분류에서 어떤 추천을 하면 좋을지"
   ]
  },
  {
   "cell_type": "markdown",
   "id": "732f3fa2",
   "metadata": {},
   "source": [
    "이용시 유의사항\n",
    "\n",
    "1. 경기순환시계의 구성지표들은 계절(seasonal), 불규칙(irregular) 및 추세(trend) 변동요인이 제거된 순환변동요인(cyclical component, 순환변동치)과 그 전월차 자료를 이용하여 만들었기 때문에, 원계열 또는 계절조정계열과는 증감 방향이 다를 수 있습니다."
   ]
  },
  {
   "cell_type": "markdown",
   "id": "10d67a6b",
   "metadata": {},
   "source": [
    "- 방법론 요약\\\n",
    "릿지 회귀분석처럼 제약조건이 있는 코스트함수를 사용 (아래 수식참조)\n",
    "\n",
    "- 파이썬  라이브러리 있음\\\n",
    "     import statsmodels.api as sm\\\n",
    "     df = 시계열 데이터프레임\\\n",
    "     cycle, trend = sm.tsa.filters.hpfilter( df, 14400)\\\n",
    "     - 여기서 파라메터로 월별데이터이면 람다값을 14,400으로 사용,  분기는 1600\\\n",
    "로직은 추세항 g_t를  추정하여   순환항 c_t를 구함"
   ]
  },
  {
   "cell_type": "markdown",
   "id": "aa36514a",
   "metadata": {},
   "source": [
    "- 14400 논문상 \n",
    "- 현재는 3000 최적\n",
    "- 람다값이 무엇인지, 총 기간이 얼마나 되는지 - 번호:042-481-2209\n",
    "- 람다값은 각각 다르게 지정하였음, 기간은 존재하는 데이터를 모두 사용"
   ]
  },
  {
   "cell_type": "code",
   "execution_count": 14,
   "id": "28991164",
   "metadata": {},
   "outputs": [],
   "source": [
    "def func_diff(data,lamb):\n",
    "    data_time = data.T\n",
    "    data_time.columns=['value']\n",
    "\n",
    "    # 추세 변동요인 추출 - trend\n",
    "    cycle, trend = sm.tsa.filters.hpfilter(data_time,lamb)\n",
    "\n",
    "    data_불규칙 = pd.DataFrame(cycle)\n",
    "    # 불규칙 변동요인 제거한 순환변동요인 추출 - cycle2\n",
    "    unrule, cycle2 = sm.tsa.filters.hpfilter(data_불규칙,lamb)\n",
    "    # 표준화\n",
    "    cycle_std = (cycle2-np.mean(cycle2))/np.std(cycle2)\n",
    "    return cycle_std, cycle_std.diff()"
   ]
  },
  {
   "cell_type": "code",
   "execution_count": 15,
   "id": "2cece7ee",
   "metadata": {
    "scrolled": false
   },
   "outputs": [],
   "source": [
    "# lambda 임의 정의\n",
    "\n",
    "광공업생산지수_y,광공업생산지수_x = func_diff(광공업생산지수,2100)\n",
    "서비스업생산지수_y,서비스업생산지수_x = func_diff(서비스업생산지수,650)\n",
    "판매액지수_y,판매액지수_x = func_diff(판매액지수,145)\n",
    "설비투자지수_y,설비투자지수_x = func_diff(설비투자지수,580)\n",
    "건설기성액_y,건설기성액_x = func_diff(건설기성액_계절,800)\n",
    "수출_y,수출_x = func_diff(수출,2450)\n",
    "수입_y,수입_x = func_diff(수입,6000)\n",
    "취업자_y,취업자_x = func_diff(취업자,610)\n",
    "기업경기실사지수_y,기업경기실사지수_x = func_diff(기업경기실사지수,11200)"
   ]
  },
  {
   "cell_type": "code",
   "execution_count": 16,
   "id": "8bf19035",
   "metadata": {},
   "outputs": [],
   "source": [
    "data_all = pd.DataFrame([광공업생산지수_x,광공업생산지수_y,서비스업생산지수_x,서비스업생산지수_y,판매액지수_x,판매액지수_y,\n",
    "             설비투자지수_x,설비투자지수_y,건설기성액_x,건설기성액_y,수출_x,수출_y,수입_x,수입_y,\n",
    "             취업자_x,취업자_y,기업경기실사지수_x,기업경기실사지수_y])\n",
    "\n",
    "data_all.index = ['광공업생산지수_x','광공업생산지수_y','서비스업생산지수_x','서비스업생산지수_y','판매액지수_x','판매액지수_y',\n",
    "             '설비투자지수_x','설비투자지수_y','건설기성액_x','건설기성액_y','수출_x','수출_y','수입_x','수입_y',\n",
    "             '취업자_x','취업자_y','기업경기실사지수_x','기업경기실사지수_y']\n",
    "\n",
    "data_all=data_all.T\n",
    "data_lst = ['광공업생산지수','서비스업생산지수','판매액지수','설비투자지수','건설기성액',\n",
    "            '수출','수입','취업자','기업경기실사지수']\n",
    "point_lst = ['x', 'v', 's', '<', '>','x', 'v', 's', '<']"
   ]
  },
  {
   "cell_type": "markdown",
   "id": "fd72df27",
   "metadata": {},
   "source": [
    "---\n"
   ]
  },
  {
   "cell_type": "code",
   "execution_count": 17,
   "id": "aca611e7",
   "metadata": {},
   "outputs": [],
   "source": [
    "import seaborn as sns\n",
    "colors = sns.color_palette('hls',len(data_lst))\n",
    "\n",
    "def plot_make(date):\n",
    "    fig = plt.figure(figsize=(12,12))\n",
    "    plt.rcParams['font.family']='Malgun Gothic'\n",
    "    plt.rcParams['axes.unicode_minus']=False\n",
    "    fig.set_facecolor('white')\n",
    "\n",
    "    plt.axvline(x=0,alpha = 0.3)  # draw x =0 axes\n",
    "    plt.axhline(y=0,alpha = 0.3)   # draw y =0 axes\n",
    "\n",
    "    for i,y in enumerate(data_lst):\n",
    "        plt.scatter(data_all.loc[f'{date}',data_all.columns.str.contains(y)*data_all.columns.str.contains('_x')],\n",
    "                   data_all.loc[f'{date}',data_all.columns.str.contains(y)*data_all.columns.str.contains('_y')],\n",
    "                   color=colors[i],label=f'{y}', s=150, marker=point_lst[i])\n",
    "    plt.legend()\n",
    "    plt.xlim([-2,2])\n",
    "    plt.ylim([-7,7])\n",
    "    plt.show()"
   ]
  },
  {
   "cell_type": "code",
   "execution_count": 20,
   "id": "7f30f32c",
   "metadata": {
    "scrolled": false
   },
   "outputs": [
    {
     "data": {
      "image/png": "[encoded data removed]",
      "text/plain": [
       "<Figure size 864x864 with 1 Axes>"
      ]
     },
     "metadata": {},
     "output_type": "display_data"
    }
   ],
   "source": [
    "plot_make('202208')"
   ]
  },
  {
   "cell_type": "markdown",
   "id": "6850e578",
   "metadata": {},
   "source": [
    "---"
   ]
  },
  {
   "cell_type": "markdown",
   "id": "a6254a97",
   "metadata": {},
   "source": [
    "#### trend 성 체크 "
   ]
  },
  {
   "cell_type": "code",
   "execution_count": 458,
   "id": "ff6153a8",
   "metadata": {},
   "outputs": [],
   "source": [
    "광공업생산지수_time['trend']=trend"
   ]
  },
  {
   "cell_type": "code",
   "execution_count": 460,
   "id": "b78cb4ab",
   "metadata": {},
   "outputs": [],
   "source": [
    "광공업생산지수_불규칙['trend']=cycle2"
   ]
  },
  {
   "cell_type": "code",
   "execution_count": 459,
   "id": "2a9ff023",
   "metadata": {},
   "outputs": [
    {
     "data": {
      "image/png": "[encoded data removed]",
      "text/plain": [
       "<Figure size 432x288 with 1 Axes>"
      ]
     },
     "metadata": {
      "needs_background": "light"
     },
     "output_type": "display_data"
    }
   ],
   "source": [
    "import matplotlib.pyplot as plt\n",
    "fig, ax = plt.subplots()\n",
    "광공업생산지수_불규칙[[\"value\", \"trend\"]][:].plot(ax=ax,fontsize=16)\n",
    "plt.show()"
   ]
  }
 ],
 "metadata": {
  "kernelspec": {
   "display_name": "Python 3 (ipykernel)",
   "language": "python",
   "name": "python3"
  },
  "language_info": {
   "codemirror_mode": {
    "name": "ipython",
    "version": 3
   },
   "file_extension": ".py",
   "mimetype": "text/x-python",
   "name": "python",
   "nbconvert_exporter": "python",
   "pygments_lexer": "ipython3",
   "version": "3.9.12"
  }
 },
 "nbformat": 4,
 "nbformat_minor": 5
}
