{
 "cells": [
  {
   "cell_type": "code",
   "execution_count": 1,
   "id": "9918daab",
   "metadata": {},
   "outputs": [],
   "source": [
    "from sqlalchemy import create_engine\n",
    "import pymysql\n",
    "from urllib.parse import quote\n",
    "import pandas as pd\n",
    "import tkinter, tkinter.ttk, pymysql, paramiko\n",
    "from tkcalendar import Calendar\n",
    "from sshtunnel import SSHTunnelForwarder\n",
    "from sqlalchemy import create_engine\n",
    "import time\n",
    "from tqdm import tqdm\n",
    "from datetime import datetime, date, timedelta\n",
    "from sklearn.preprocessing import MinMaxScaler\n",
    "import matplotlib.pyplot as plt\n",
    "import numpy as np\n",
    "from sklearn.cluster import KMeans\n",
    "import seaborn as sns\n",
    "from matplotlib import cm\n",
    "import random\n",
    "from sklearn.preprocessing import MinMaxScaler\n",
    "random.seed(0)"
   ]
  },
  {
   "cell_type": "code",
   "execution_count": 2,
   "id": "ddb9e1fd",
   "metadata": {},
   "outputs": [],
   "source": [
    "pkeyfilepath = '/Users/gitple/.ssh/id_rsa' ######################### ssh_key.pem 파일 경로 넣으시면 됩니다.\n",
    "mypkey = paramiko.RSAKey.from_private_key_file(pkeyfilepath)\n",
    "sql_hostname = 'db-8j8d2-fkr.cdb.fin-ntruss.com'\n",
    "sql_username = 'wkdtjdgus2142'            ######################### sql_username 입력하시면 됩니다.\n",
    "sql_password = '?!0hLtR$_i8onochu=aC'            ######################### sql_password 입력하시면 됩니다.\n",
    "sql_main_database = 'betterday_db'\n",
    "sql_port = 3306\n",
    "ssh_host = '10.0.1.14'\n",
    "ssh_user = 'wkdtjdgus2142'                ######################### ssh_user 입력하시면 됩니다.\n",
    "ssh_port = 22\n",
    "\n",
    "# soslSuregi97o#rop0n0"
   ]
  },
  {
   "cell_type": "markdown",
   "id": "e36c478c",
   "metadata": {},
   "source": [
    "### 투자상품 총 자산"
   ]
  },
  {
   "cell_type": "code",
   "execution_count": 15,
   "id": "b74b8d81",
   "metadata": {
    "scrolled": true
   },
   "outputs": [
    {
     "name": "stdout",
     "output_type": "stream",
     "text": [
      "I'm running\n",
      "1559\n",
      "I'm running\n",
      "1560\n"
     ]
    }
   ],
   "source": [
    "with SSHTunnelForwarder(\n",
    "        (ssh_host, ssh_port),\n",
    "        ssh_username=ssh_user,\n",
    "        ssh_pkey=mypkey,\n",
    "        remote_bind_address=(sql_hostname, sql_port)) as tunnel:\n",
    "        con = pymysql.connect(host='127.0.0.1', user=sql_username,\n",
    "            passwd=sql_password, db=sql_main_database,\n",
    "            port=tunnel.local_bind_port)\n",
    "        df = [\"1559\",\"1560\"] # get To_Date, From_Date\n",
    "        ACCOUNT_LIST =[]\n",
    "        for item in df:\n",
    "            print(\"I'm running\")\n",
    "            print(item)\n",
    "            sql = \"\"\"\n",
    "           SELECT mut.BDAY_CUST_ID, bc.BIRTH_DD \n",
    "            ,SUM(IF(IFNULL(CURRENCY_CODE, 'KRW')='KRW',EVAL_AMT,EVAL_AMT*(SELECT RATE FROM betterday_db.BD_EXCHANGE_RATE B\n",
    "                                WHERE B.CURRENCY_CODE = miap.CURRENCY_CODE\n",
    "                                AND date_format(CRT_DT,\"%Y-%m-%d\") = miap.BASE_DATE \n",
    "                                limit 1))) AS AMT_SUM\n",
    "            FROM MD_INVEST_ACCOUNTS mia, MD_USER_TOKEN mut, MD_INVEST_ACCOUNTS_PRODUCTS miap , BDAY_CUST bc \n",
    "            WHERE mia.TOKEN_ID = mut.ID  AND miap.INVEST_ACCOUNTS_ID = mia.ID AND bc.ID = mut.BDAY_CUST_ID\n",
    "            GROUP BY mut.BDAY_CUST_ID;\n",
    "            \"\"\".format(str(item[0]))\n",
    "            cur = con.cursor()\n",
    "            cur.execute(sql)\n",
    "            invest_data = cur.fetchall()"
   ]
  },
  {
   "cell_type": "code",
   "execution_count": 17,
   "id": "2494cf26",
   "metadata": {
    "scrolled": false
   },
   "outputs": [
    {
     "name": "stdout",
     "output_type": "stream",
     "text": [
      "I'm running\n",
      "1559\n",
      "I'm running\n",
      "1560\n"
     ]
    }
   ],
   "source": [
    "with SSHTunnelForwarder(\n",
    "        (ssh_host, ssh_port),\n",
    "        ssh_username=ssh_user,\n",
    "        ssh_pkey=mypkey,\n",
    "        remote_bind_address=(sql_hostname, sql_port)) as tunnel:\n",
    "        con = pymysql.connect(host='127.0.0.1', user=sql_username,\n",
    "            passwd=sql_password, db=sql_main_database,\n",
    "            port=tunnel.local_bind_port)\n",
    "        df = [\"1559\",\"1560\"] # get To_Date, From_Date\n",
    "        ACCOUNT_LIST =[]\n",
    "        for item in df:\n",
    "            print(\"I'm running\")\n",
    "            print(item)\n",
    "            sql = \"\"\"\n",
    "            SELECT mut.BDAY_CUST_ID, SUM(IF(mbadd.BALANCE_AMT<0,0,mbadd.BALANCE_AMT)) FROM MD_BANK_ACCOUNTS_DEPOSIT_DETAIL mbadd, MD_BANK_ACCOUNTS mba , MD_USER_TOKEN mut \n",
    "            WHERE mbadd.BANK_ACCOUNTS_ID = mba.ID  AND mba.TOKEN_ID = mut.ID\n",
    "            AND mba.IS_CONSENT=1\n",
    "            AND mba.ACCOUNT_TYPE IN (1001,1002,1003,1999,2001,2002,2003,2004,2999)\n",
    "            AND mba.ACCOUNT_STATUS =1\n",
    "            GROUP BY mut.BDAY_CUST_ID;\n",
    "            \"\"\".format(str(item[0]))\n",
    "            cur = con.cursor()\n",
    "            cur.execute(sql)\n",
    "            all_amt = cur.fetchall()"
   ]
  },
  {
   "cell_type": "code",
   "execution_count": null,
   "id": "e75bdcf1",
   "metadata": {},
   "outputs": [],
   "source": [
    "invest_data = pd.DataFrame(invest_data)\n",
    "all_amt = pd.DataFrame(all_amt)\n",
    "\n",
    "invest_data.columns = ['ID','year','invest_amt']\n",
    "all_amt.columns = ['ID','계좌액수']\n",
    "\n",
    "data = pd.merge(all_amt, invest_data,how='inner',on='ID')\n",
    "\n",
    "invest_data['year'] = invest_data.year.apply(lambda x: datetime.now().year - x.year)\n",
    "data['invest_rate']=data['invest_amt']/(data['계좌액수']+data['invest_amt'])"
   ]
  },
  {
   "cell_type": "code",
   "execution_count": 213,
   "id": "07f8d5d5",
   "metadata": {
    "scrolled": true
   },
   "outputs": [],
   "source": [
    "css_all = pd.read_csv('../페니로이스/css_data/css_all_0913.csv',index_col=0)\n",
    "# css_all = pd.DataFrame(css_all)\n",
    "# css_all.columns = ['ID','계좌액수','M0_입금','M0_출금','M1_입금','M1_출금']\n",
    "# css_all['m_sav']=css_all['M0_입금']-css_all['M0_출금']-(css_all['M1_입금']-css_all['M1_출금'])\n",
    "\n",
    "\n",
    "data = pd.merge(css_all[['ID','m_sav']], data3, how='inner', on='ID')\n",
    "data = pd.merge(all_amt[['ID','계좌액수']], data, how='inner', on='ID')\n",
    "\n",
    "data['invest_rate']=data['eval_amt']/(data['계좌액수']+data['eval_amt'])\n",
    "data = data.dropna().reset_index().drop('index',axis=1)"
   ]
  },
  {
   "cell_type": "markdown",
   "id": "c7c39a2a",
   "metadata": {},
   "source": [
    "### ver02."
   ]
  },
  {
   "cell_type": "code",
   "execution_count": 214,
   "id": "d10dd915",
   "metadata": {},
   "outputs": [],
   "source": [
    "def alpha_bar( mu, sigma, theta, r):\n",
    "    return (mu-r)/(theta*sigma*sigma)\n",
    "\n",
    "def theta_ftn(x):\n",
    "    theta = np.exp(-7.34*x**3 + 12.13*x**2 + -6.74*x + 1.95)\n",
    "    if theta >7:\n",
    "        theta =7\n",
    "    elif theta<1:\n",
    "        theta=1\n",
    "    return theta"
   ]
  },
  {
   "cell_type": "code",
   "execution_count": 215,
   "id": "0d98d416",
   "metadata": {},
   "outputs": [],
   "source": [
    "def phi_ftn ( t_hat, t_max, T, M_save, t_max_amt, T_amt):\n",
    "    if t_hat < t_max :\n",
    "        if t_max_amt > 12*M_save :\n",
    "            a1 = (t_max_amt - 12 * M_save) / (t_max - t_hat)\n",
    "            b1 = (12 * M_save - t_max_amt) / (t_max - t_hat) * t_max + t_max_amt\n",
    "            a2 = (T_amt - t_max_amt) / (T - t_max)\n",
    "            b2 = (t_max_amt - T_amt) / (T - t_max) * T + T_amt\n",
    "        else :\n",
    "            t_max_amt = t_max_amt*(1+0.2)\n",
    "            T_amt = T_amt*(1+0.2)\n",
    "            a1 = (t_max_amt - 12 * M_save) / (t_max - t_hat)\n",
    "            b1 = (12 * M_save - t_max_amt) / (t_max - t_hat) * t_max + t_max_amt\n",
    "            a2 = (T_amt - t_max_amt) / (T - t_max)\n",
    "            b2 = (t_max_amt - T_amt) / (T - t_max) * T + T_amt\n",
    "    else :\n",
    "        a1 = 0\n",
    "        b1 = 0\n",
    "        a2 = (T_amt - 12 * M_save)/(T - t_hat)\n",
    "        b2 = (12 * M_save - T_amt)/(T - t_hat) + T_amt\n",
    "    return (a1,b1,a2,b2)"
   ]
  },
  {
   "cell_type": "code",
   "execution_count": 216,
   "id": "fa7fe7ba",
   "metadata": {},
   "outputs": [],
   "source": [
    "def glide_path ( t, t_hat, mu, sigma, r, theta, t_max, T, t_max_amt, T_amt, M_save, X0) :\n",
    "    glide_lst =[]\n",
    "    alpha = alpha_bar(mu, sigma, theta, r)\n",
    "    (a1, b1, a2, b2) = phi_ftn(t_hat, t_max, T, M_save, t_max_amt, T_amt)\n",
    "    if t_hat < t_max :\n",
    "        while t < T:\n",
    "            int_f = alpha * mu * (0.5 * a2 * T * T + b2 * T + 0.5 * (a1 - a2) * t_max * t_max + (b1 - b2) * t_max) * t\n",
    "            - alpha * mu * (1 / 6 * a1 * t * t + 0.5 * b1 * t) * t + (0.5 * a1 * t + b1) * t\n",
    "            mt = X0 * np.exp(alpha * mu * t) + int_f + 0.5 * int_f*int_f/(X0*np.exp(alpha*mu*t))\n",
    "            mt = round(mt,3)\n",
    "            glide = alpha + mu*(0.5*a1*(t_max**2-t**2)+b1*(t_max-t)+0.5*a2*(T**2-t_max**2) + b2*(T-t_max))/(theta * sigma**2 * mt)\n",
    "            glide_lst.append([t,mt,glide])\n",
    "            t+=1\n",
    "    else:\n",
    "        while t < T:\n",
    "            int_f = alpha *mu * (0.5 * a2 * T * T + b2 * T) * t\n",
    "            - alpha * mu * (1 / 6 * a2 * t * t + 0.5 * b2 * t) * t + (0.5 * a2 * t + b2) * t\n",
    "            mt = X0 * np.exp(alpha * mu * t) + int_f + 0.5 * int_f*int_f/(X0*np.exp(alpha*mu*t))\n",
    "            mt = round(mt,3)\n",
    "            glide = alpha + mu*(0.5*a2*(T**2-t**2) + b2*(T-t))/(theta * sigma**2 * mt)\n",
    "            glide_lst.append([t,mt,glide])\n",
    "            t+=1\n",
    "\n",
    "    glide_lst = pd.DataFrame(glide_lst)\n",
    "    glide_lst.columns = ['age','m_t','glide_path']\n",
    "    glide_lst['glide_path'] = glide_lst.glide_path.astype(float)\n",
    "    return glide_lst"
   ]
  },
  {
   "cell_type": "code",
   "execution_count": 217,
   "id": "2f4e460f",
   "metadata": {},
   "outputs": [],
   "source": [
    "ID = 268\n",
    "T = 80\n",
    "t_max = 50\n",
    "t = data.query(\"ID == {}\".format(ID)).iloc[0,3]+1\n",
    "t_hat = t.copy()\n",
    "t_max_amt = 18000          # 최전성기 추정 연 저축액 \n",
    "                           # M_save의 12배가 현재 연 저축액으로 보고 50과 현재나이의 gap에 따라 t_max_amt를 정의\n",
    "T_amt = 15000              # 은퇴시점 추정 연 저축액\n",
    "                           # 최전성기 추정 연 저축액의 5/6으로 임의값 정의\n",
    "    \n",
    "x =  data.query(\"ID == {}\".format(ID)).iloc[0,5]    # 위험자산의 비율 - 정당성 검사 필요\n",
    "\n",
    "theta = theta_ftn(x)\n",
    "\n",
    "mu = 0.08                                    #위험자산의 연 수익률\n",
    "sigma = 0.2                                  #위험자산의 연 변동성\n",
    "r = 0.01                                     #무위험자산의 연 이자율 - 고정\n",
    "X0 = 300000                                  #시점 t에서의 wealth\n",
    "M_save = data.query(\"ID == {}\".format(ID)).iloc[0,2]/1000          #당월순자산 - 전월순자산"
   ]
  },
  {
   "cell_type": "code",
   "execution_count": 218,
   "id": "ad0bd4c6",
   "metadata": {},
   "outputs": [],
   "source": [
    "# bank114 - 투자평가금액\n",
    "# bank115 - 투자잔액\n",
    "# bank116 - 투자원금\n",
    "\n",
    "# bank116 - bank114의 합 -> 위험자산의 연 수익률 가능?"
   ]
  },
  {
   "cell_type": "markdown",
   "id": "3ce9c2d8",
   "metadata": {},
   "source": [
    "- pi함수 (contribution)에 대한 값을 최전성기를 기준으로 굴곡진 형태의 직선 그래프 형태를 바탕으로 glide path를 구했었는데 \\\n",
    "    이 함수를 통계청의 데이터를 활용하여 스무스한 형태의 그래프로 변경하게 되었다.--> ver03 \\\n",
    "\n",
    "변경된다면 지금까지 사용했던 a1,a2,b1,b2값은 필요 없음\\\n",
    "파라미터 조정은 모델을 받은 뒤 진행 가능\\\n",
    "현재 진행 가능한 것은 파라미터들을 마이데이터에서 가져온다고 했을 때 **현재 정의된 방식이 정당성이 있는지 확인**\\\n",
    "투자자산의 비율을 구하는 식을 확인 결과 문제가 없을 것으로 보임\\\n",
    "다만 고려할 점은 투자자산이 금투계좌에 포함되어있지 않음(총 계좌 amt의 합보다 투자자산의 합이 큰 경우가 있다.)"
   ]
  },
  {
   "cell_type": "code",
   "execution_count": 219,
   "id": "5e369747",
   "metadata": {
    "scrolled": false
   },
   "outputs": [
    {
     "data": {
      "text/plain": [
       "(46, 18000, 15000, 0.2816666879504088, 300000, -1109.204, 2.3393931043102403)"
      ]
     },
     "execution_count": 219,
     "metadata": {},
     "output_type": "execute_result"
    }
   ],
   "source": [
    "t, t_max_amt, T_amt, x, X0, M_save, theta"
   ]
  },
  {
   "cell_type": "code",
   "execution_count": 220,
   "id": "82fc1138",
   "metadata": {},
   "outputs": [],
   "source": [
    "glide_lst = glide_path(t,t_hat, mu, sigma, r, theta, t_max, T, t_max_amt, T_amt, M_save, X0)"
   ]
  },
  {
   "cell_type": "code",
   "execution_count": 221,
   "id": "379fd8df",
   "metadata": {
    "scrolled": true
   },
   "outputs": [
    {
     "data": {
      "text/html": [
       "<div>\n",
       "<style scoped>\n",
       "    .dataframe tbody tr th:only-of-type {\n",
       "        vertical-align: middle;\n",
       "    }\n",
       "\n",
       "    .dataframe tbody tr th {\n",
       "        vertical-align: top;\n",
       "    }\n",
       "\n",
       "    .dataframe thead th {\n",
       "        text-align: right;\n",
       "    }\n",
       "</style>\n",
       "<table border=\"1\" class=\"dataframe\">\n",
       "  <thead>\n",
       "    <tr style=\"text-align: right;\">\n",
       "      <th></th>\n",
       "      <th>age</th>\n",
       "      <th>m_t</th>\n",
       "      <th>glide_path</th>\n",
       "    </tr>\n",
       "  </thead>\n",
       "  <tbody>\n",
       "    <tr>\n",
       "      <th>0</th>\n",
       "      <td>46</td>\n",
       "      <td>3.827937e+07</td>\n",
       "      <td>0.759322</td>\n",
       "    </tr>\n",
       "    <tr>\n",
       "      <th>1</th>\n",
       "      <td>47</td>\n",
       "      <td>3.712167e+07</td>\n",
       "      <td>0.759890</td>\n",
       "    </tr>\n",
       "    <tr>\n",
       "      <th>2</th>\n",
       "      <td>48</td>\n",
       "      <td>3.594807e+07</td>\n",
       "      <td>0.760313</td>\n",
       "    </tr>\n",
       "    <tr>\n",
       "      <th>3</th>\n",
       "      <td>49</td>\n",
       "      <td>3.476401e+07</td>\n",
       "      <td>0.760577</td>\n",
       "    </tr>\n",
       "    <tr>\n",
       "      <th>4</th>\n",
       "      <td>50</td>\n",
       "      <td>3.357481e+07</td>\n",
       "      <td>0.760662</td>\n",
       "    </tr>\n",
       "    <tr>\n",
       "      <th>5</th>\n",
       "      <td>51</td>\n",
       "      <td>3.238561e+07</td>\n",
       "      <td>0.760546</td>\n",
       "    </tr>\n",
       "    <tr>\n",
       "      <th>6</th>\n",
       "      <td>52</td>\n",
       "      <td>3.120139e+07</td>\n",
       "      <td>0.760205</td>\n",
       "    </tr>\n",
       "    <tr>\n",
       "      <th>7</th>\n",
       "      <td>53</td>\n",
       "      <td>3.002701e+07</td>\n",
       "      <td>0.759610</td>\n",
       "    </tr>\n",
       "    <tr>\n",
       "      <th>8</th>\n",
       "      <td>54</td>\n",
       "      <td>2.886721e+07</td>\n",
       "      <td>0.758730</td>\n",
       "    </tr>\n",
       "    <tr>\n",
       "      <th>9</th>\n",
       "      <td>55</td>\n",
       "      <td>2.772659e+07</td>\n",
       "      <td>0.757528</td>\n",
       "    </tr>\n",
       "    <tr>\n",
       "      <th>10</th>\n",
       "      <td>56</td>\n",
       "      <td>2.660965e+07</td>\n",
       "      <td>0.755964</td>\n",
       "    </tr>\n",
       "    <tr>\n",
       "      <th>11</th>\n",
       "      <td>57</td>\n",
       "      <td>2.552080e+07</td>\n",
       "      <td>0.753994</td>\n",
       "    </tr>\n",
       "    <tr>\n",
       "      <th>12</th>\n",
       "      <td>58</td>\n",
       "      <td>2.446438e+07</td>\n",
       "      <td>0.751570</td>\n",
       "    </tr>\n",
       "    <tr>\n",
       "      <th>13</th>\n",
       "      <td>59</td>\n",
       "      <td>2.344466e+07</td>\n",
       "      <td>0.748640</td>\n",
       "    </tr>\n",
       "    <tr>\n",
       "      <th>14</th>\n",
       "      <td>60</td>\n",
       "      <td>2.246586e+07</td>\n",
       "      <td>0.745151</td>\n",
       "    </tr>\n",
       "    <tr>\n",
       "      <th>15</th>\n",
       "      <td>61</td>\n",
       "      <td>2.153216e+07</td>\n",
       "      <td>0.741047</td>\n",
       "    </tr>\n",
       "    <tr>\n",
       "      <th>16</th>\n",
       "      <td>62</td>\n",
       "      <td>2.064771e+07</td>\n",
       "      <td>0.736274</td>\n",
       "    </tr>\n",
       "    <tr>\n",
       "      <th>17</th>\n",
       "      <td>63</td>\n",
       "      <td>1.981669e+07</td>\n",
       "      <td>0.730782</td>\n",
       "    </tr>\n",
       "    <tr>\n",
       "      <th>18</th>\n",
       "      <td>64</td>\n",
       "      <td>1.904327e+07</td>\n",
       "      <td>0.724528</td>\n",
       "    </tr>\n",
       "    <tr>\n",
       "      <th>19</th>\n",
       "      <td>65</td>\n",
       "      <td>1.833165e+07</td>\n",
       "      <td>0.717482</td>\n",
       "    </tr>\n",
       "    <tr>\n",
       "      <th>20</th>\n",
       "      <td>66</td>\n",
       "      <td>1.768608e+07</td>\n",
       "      <td>0.709631</td>\n",
       "    </tr>\n",
       "    <tr>\n",
       "      <th>21</th>\n",
       "      <td>67</td>\n",
       "      <td>1.711088e+07</td>\n",
       "      <td>0.700987</td>\n",
       "    </tr>\n",
       "    <tr>\n",
       "      <th>22</th>\n",
       "      <td>68</td>\n",
       "      <td>1.661045e+07</td>\n",
       "      <td>0.691592</td>\n",
       "    </tr>\n",
       "    <tr>\n",
       "      <th>23</th>\n",
       "      <td>69</td>\n",
       "      <td>1.618929e+07</td>\n",
       "      <td>0.681525</td>\n",
       "    </tr>\n",
       "    <tr>\n",
       "      <th>24</th>\n",
       "      <td>70</td>\n",
       "      <td>1.585204e+07</td>\n",
       "      <td>0.670907</td>\n",
       "    </tr>\n",
       "    <tr>\n",
       "      <th>25</th>\n",
       "      <td>71</td>\n",
       "      <td>1.560345e+07</td>\n",
       "      <td>0.659900</td>\n",
       "    </tr>\n",
       "    <tr>\n",
       "      <th>26</th>\n",
       "      <td>72</td>\n",
       "      <td>1.544847e+07</td>\n",
       "      <td>0.648706</td>\n",
       "    </tr>\n",
       "    <tr>\n",
       "      <th>27</th>\n",
       "      <td>73</td>\n",
       "      <td>1.539221e+07</td>\n",
       "      <td>0.637561</td>\n",
       "    </tr>\n",
       "    <tr>\n",
       "      <th>28</th>\n",
       "      <td>74</td>\n",
       "      <td>1.544000e+07</td>\n",
       "      <td>0.626721</td>\n",
       "    </tr>\n",
       "    <tr>\n",
       "      <th>29</th>\n",
       "      <td>75</td>\n",
       "      <td>1.559739e+07</td>\n",
       "      <td>0.616447</td>\n",
       "    </tr>\n",
       "    <tr>\n",
       "      <th>30</th>\n",
       "      <td>76</td>\n",
       "      <td>1.587018e+07</td>\n",
       "      <td>0.606987</td>\n",
       "    </tr>\n",
       "    <tr>\n",
       "      <th>31</th>\n",
       "      <td>77</td>\n",
       "      <td>1.626448e+07</td>\n",
       "      <td>0.598557</td>\n",
       "    </tr>\n",
       "    <tr>\n",
       "      <th>32</th>\n",
       "      <td>78</td>\n",
       "      <td>1.678667e+07</td>\n",
       "      <td>0.591328</td>\n",
       "    </tr>\n",
       "    <tr>\n",
       "      <th>33</th>\n",
       "      <td>79</td>\n",
       "      <td>1.744348e+07</td>\n",
       "      <td>0.585414</td>\n",
       "    </tr>\n",
       "  </tbody>\n",
       "</table>\n",
       "</div>"
      ],
      "text/plain": [
       "    age           m_t  glide_path\n",
       "0    46  3.827937e+07    0.759322\n",
       "1    47  3.712167e+07    0.759890\n",
       "2    48  3.594807e+07    0.760313\n",
       "3    49  3.476401e+07    0.760577\n",
       "4    50  3.357481e+07    0.760662\n",
       "5    51  3.238561e+07    0.760546\n",
       "6    52  3.120139e+07    0.760205\n",
       "7    53  3.002701e+07    0.759610\n",
       "8    54  2.886721e+07    0.758730\n",
       "9    55  2.772659e+07    0.757528\n",
       "10   56  2.660965e+07    0.755964\n",
       "11   57  2.552080e+07    0.753994\n",
       "12   58  2.446438e+07    0.751570\n",
       "13   59  2.344466e+07    0.748640\n",
       "14   60  2.246586e+07    0.745151\n",
       "15   61  2.153216e+07    0.741047\n",
       "16   62  2.064771e+07    0.736274\n",
       "17   63  1.981669e+07    0.730782\n",
       "18   64  1.904327e+07    0.724528\n",
       "19   65  1.833165e+07    0.717482\n",
       "20   66  1.768608e+07    0.709631\n",
       "21   67  1.711088e+07    0.700987\n",
       "22   68  1.661045e+07    0.691592\n",
       "23   69  1.618929e+07    0.681525\n",
       "24   70  1.585204e+07    0.670907\n",
       "25   71  1.560345e+07    0.659900\n",
       "26   72  1.544847e+07    0.648706\n",
       "27   73  1.539221e+07    0.637561\n",
       "28   74  1.544000e+07    0.626721\n",
       "29   75  1.559739e+07    0.616447\n",
       "30   76  1.587018e+07    0.606987\n",
       "31   77  1.626448e+07    0.598557\n",
       "32   78  1.678667e+07    0.591328\n",
       "33   79  1.744348e+07    0.585414"
      ]
     },
     "execution_count": 221,
     "metadata": {},
     "output_type": "execute_result"
    }
   ],
   "source": [
    "glide_lst"
   ]
  },
  {
   "cell_type": "code",
   "execution_count": 222,
   "id": "6c3405cd",
   "metadata": {
    "scrolled": true
   },
   "outputs": [
    {
     "data": {
      "text/plain": [
       "<AxesSubplot:xlabel='age', ylabel='glide_path'>"
      ]
     },
     "execution_count": 222,
     "metadata": {},
     "output_type": "execute_result"
    },
    {
     "data": {
      "image/png": "[encoded data removed]",
      "text/plain": [
       "<Figure size 432x288 with 1 Axes>"
      ]
     },
     "metadata": {
      "needs_background": "light"
     },
     "output_type": "display_data"
    }
   ],
   "source": [
    "sns.lineplot(x=glide_lst.age, y=glide_lst.glide_path)"
   ]
  },
  {
   "cell_type": "markdown",
   "id": "eac69105",
   "metadata": {},
   "source": [
    "---"
   ]
  },
  {
   "cell_type": "code",
   "execution_count": 223,
   "id": "258e147d",
   "metadata": {},
   "outputs": [],
   "source": [
    "ID = 10\n",
    "T = 80 \n",
    "t_max = 50\n",
    "t = data.query(\"ID == {}\".format(ID)).iloc[0,3]+1\n",
    "t_hat = t.copy()\n",
    "t_max_amt = 300000          # 최전성기 추정 연 저축액 \n",
    "                           # M_save의 12배가 현재 연 저축액으로 보고 50과 현재나이의 gap에 따라 t_max_amt를 정의\n",
    "T_amt = 250000              # 은퇴시점 추정 연 저축액\n",
    "                           # 최전성기 추정 연 저축액의 5/6으로 임의값 정의\n",
    "    \n",
    "x =  data.query(\"ID == {}\".format(ID)).iloc[0,5]    # 위험자산의 비율 - 정당성 검사 필요\n",
    "\n",
    "theta = theta_ftn(x)\n",
    "\n",
    "mu = 0.04                                    #위험자산의 연 수익률\n",
    "sigma = 0.2                                  #위험자산의 연 변동성\n",
    "r = 0.01                                     #무위험자산의 연 이자율 - 고정\n",
    "X0 = 300000                                  #시점 t에서의 wealth\n",
    "M_save = data.query(\"ID == {}\".format(ID)).iloc[0,2]/1000          #당월순자산 - 전월순자산"
   ]
  },
  {
   "cell_type": "code",
   "execution_count": 224,
   "id": "f03ed3dd",
   "metadata": {
    "scrolled": true
   },
   "outputs": [
    {
     "data": {
      "text/plain": [
       "(50, 300000, 250000, 0.9854399889309952, 300000, 25342.859)"
      ]
     },
     "execution_count": 224,
     "metadata": {},
     "output_type": "execute_result"
    }
   ],
   "source": [
    "(t, t_max_amt, T_amt, x, X0, M_save)"
   ]
  },
  {
   "cell_type": "code",
   "execution_count": 225,
   "id": "4acf6b8d",
   "metadata": {},
   "outputs": [],
   "source": [
    "glide_lst = glide_path(t,t_hat, mu, sigma, r, theta, t_max, T, t_max_amt, T_amt, M_save, X0)"
   ]
  },
  {
   "cell_type": "code",
   "execution_count": 226,
   "id": "1993c8bc",
   "metadata": {
    "scrolled": true
   },
   "outputs": [
    {
     "data": {
      "text/html": [
       "<div>\n",
       "<style scoped>\n",
       "    .dataframe tbody tr th:only-of-type {\n",
       "        vertical-align: middle;\n",
       "    }\n",
       "\n",
       "    .dataframe tbody tr th {\n",
       "        vertical-align: top;\n",
       "    }\n",
       "\n",
       "    .dataframe thead th {\n",
       "        text-align: right;\n",
       "    }\n",
       "</style>\n",
       "<table border=\"1\" class=\"dataframe\">\n",
       "  <thead>\n",
       "    <tr style=\"text-align: right;\">\n",
       "      <th></th>\n",
       "      <th>age</th>\n",
       "      <th>m_t</th>\n",
       "      <th>glide_path</th>\n",
       "    </tr>\n",
       "  </thead>\n",
       "  <tbody>\n",
       "    <tr>\n",
       "      <th>0</th>\n",
       "      <td>50</td>\n",
       "      <td>1.884025e+08</td>\n",
       "      <td>0.724002</td>\n",
       "    </tr>\n",
       "    <tr>\n",
       "      <th>1</th>\n",
       "      <td>51</td>\n",
       "      <td>1.907646e+08</td>\n",
       "      <td>0.722963</td>\n",
       "    </tr>\n",
       "    <tr>\n",
       "      <th>2</th>\n",
       "      <td>52</td>\n",
       "      <td>1.930185e+08</td>\n",
       "      <td>0.721967</td>\n",
       "    </tr>\n",
       "    <tr>\n",
       "      <th>3</th>\n",
       "      <td>53</td>\n",
       "      <td>1.951653e+08</td>\n",
       "      <td>0.721013</td>\n",
       "    </tr>\n",
       "    <tr>\n",
       "      <th>4</th>\n",
       "      <td>54</td>\n",
       "      <td>1.972063e+08</td>\n",
       "      <td>0.720097</td>\n",
       "    </tr>\n",
       "    <tr>\n",
       "      <th>5</th>\n",
       "      <td>55</td>\n",
       "      <td>1.991427e+08</td>\n",
       "      <td>0.719216</td>\n",
       "    </tr>\n",
       "    <tr>\n",
       "      <th>6</th>\n",
       "      <td>56</td>\n",
       "      <td>2.009761e+08</td>\n",
       "      <td>0.718368</td>\n",
       "    </tr>\n",
       "    <tr>\n",
       "      <th>7</th>\n",
       "      <td>57</td>\n",
       "      <td>2.027080e+08</td>\n",
       "      <td>0.717550</td>\n",
       "    </tr>\n",
       "    <tr>\n",
       "      <th>8</th>\n",
       "      <td>58</td>\n",
       "      <td>2.043399e+08</td>\n",
       "      <td>0.716761</td>\n",
       "    </tr>\n",
       "    <tr>\n",
       "      <th>9</th>\n",
       "      <td>59</td>\n",
       "      <td>2.058737e+08</td>\n",
       "      <td>0.715998</td>\n",
       "    </tr>\n",
       "    <tr>\n",
       "      <th>10</th>\n",
       "      <td>60</td>\n",
       "      <td>2.073110e+08</td>\n",
       "      <td>0.715260</td>\n",
       "    </tr>\n",
       "    <tr>\n",
       "      <th>11</th>\n",
       "      <td>61</td>\n",
       "      <td>2.086536e+08</td>\n",
       "      <td>0.714545</td>\n",
       "    </tr>\n",
       "    <tr>\n",
       "      <th>12</th>\n",
       "      <td>62</td>\n",
       "      <td>2.099035e+08</td>\n",
       "      <td>0.713852</td>\n",
       "    </tr>\n",
       "    <tr>\n",
       "      <th>13</th>\n",
       "      <td>63</td>\n",
       "      <td>2.110626e+08</td>\n",
       "      <td>0.713179</td>\n",
       "    </tr>\n",
       "    <tr>\n",
       "      <th>14</th>\n",
       "      <td>64</td>\n",
       "      <td>2.121328e+08</td>\n",
       "      <td>0.712525</td>\n",
       "    </tr>\n",
       "    <tr>\n",
       "      <th>15</th>\n",
       "      <td>65</td>\n",
       "      <td>2.131163e+08</td>\n",
       "      <td>0.711888</td>\n",
       "    </tr>\n",
       "    <tr>\n",
       "      <th>16</th>\n",
       "      <td>66</td>\n",
       "      <td>2.140149e+08</td>\n",
       "      <td>0.711269</td>\n",
       "    </tr>\n",
       "    <tr>\n",
       "      <th>17</th>\n",
       "      <td>67</td>\n",
       "      <td>2.148307e+08</td>\n",
       "      <td>0.710665</td>\n",
       "    </tr>\n",
       "    <tr>\n",
       "      <th>18</th>\n",
       "      <td>68</td>\n",
       "      <td>2.155660e+08</td>\n",
       "      <td>0.710075</td>\n",
       "    </tr>\n",
       "    <tr>\n",
       "      <th>19</th>\n",
       "      <td>69</td>\n",
       "      <td>2.162226e+08</td>\n",
       "      <td>0.709500</td>\n",
       "    </tr>\n",
       "    <tr>\n",
       "      <th>20</th>\n",
       "      <td>70</td>\n",
       "      <td>2.168029e+08</td>\n",
       "      <td>0.708938</td>\n",
       "    </tr>\n",
       "    <tr>\n",
       "      <th>21</th>\n",
       "      <td>71</td>\n",
       "      <td>2.173088e+08</td>\n",
       "      <td>0.708387</td>\n",
       "    </tr>\n",
       "    <tr>\n",
       "      <th>22</th>\n",
       "      <td>72</td>\n",
       "      <td>2.177426e+08</td>\n",
       "      <td>0.707849</td>\n",
       "    </tr>\n",
       "    <tr>\n",
       "      <th>23</th>\n",
       "      <td>73</td>\n",
       "      <td>2.181063e+08</td>\n",
       "      <td>0.707322</td>\n",
       "    </tr>\n",
       "    <tr>\n",
       "      <th>24</th>\n",
       "      <td>74</td>\n",
       "      <td>2.184020e+08</td>\n",
       "      <td>0.706805</td>\n",
       "    </tr>\n",
       "    <tr>\n",
       "      <th>25</th>\n",
       "      <td>75</td>\n",
       "      <td>2.186320e+08</td>\n",
       "      <td>0.706298</td>\n",
       "    </tr>\n",
       "    <tr>\n",
       "      <th>26</th>\n",
       "      <td>76</td>\n",
       "      <td>2.187983e+08</td>\n",
       "      <td>0.705800</td>\n",
       "    </tr>\n",
       "    <tr>\n",
       "      <th>27</th>\n",
       "      <td>77</td>\n",
       "      <td>2.189030e+08</td>\n",
       "      <td>0.705311</td>\n",
       "    </tr>\n",
       "    <tr>\n",
       "      <th>28</th>\n",
       "      <td>78</td>\n",
       "      <td>2.189482e+08</td>\n",
       "      <td>0.704831</td>\n",
       "    </tr>\n",
       "    <tr>\n",
       "      <th>29</th>\n",
       "      <td>79</td>\n",
       "      <td>2.189360e+08</td>\n",
       "      <td>0.704358</td>\n",
       "    </tr>\n",
       "  </tbody>\n",
       "</table>\n",
       "</div>"
      ],
      "text/plain": [
       "    age           m_t  glide_path\n",
       "0    50  1.884025e+08    0.724002\n",
       "1    51  1.907646e+08    0.722963\n",
       "2    52  1.930185e+08    0.721967\n",
       "3    53  1.951653e+08    0.721013\n",
       "4    54  1.972063e+08    0.720097\n",
       "5    55  1.991427e+08    0.719216\n",
       "6    56  2.009761e+08    0.718368\n",
       "7    57  2.027080e+08    0.717550\n",
       "8    58  2.043399e+08    0.716761\n",
       "9    59  2.058737e+08    0.715998\n",
       "10   60  2.073110e+08    0.715260\n",
       "11   61  2.086536e+08    0.714545\n",
       "12   62  2.099035e+08    0.713852\n",
       "13   63  2.110626e+08    0.713179\n",
       "14   64  2.121328e+08    0.712525\n",
       "15   65  2.131163e+08    0.711888\n",
       "16   66  2.140149e+08    0.711269\n",
       "17   67  2.148307e+08    0.710665\n",
       "18   68  2.155660e+08    0.710075\n",
       "19   69  2.162226e+08    0.709500\n",
       "20   70  2.168029e+08    0.708938\n",
       "21   71  2.173088e+08    0.708387\n",
       "22   72  2.177426e+08    0.707849\n",
       "23   73  2.181063e+08    0.707322\n",
       "24   74  2.184020e+08    0.706805\n",
       "25   75  2.186320e+08    0.706298\n",
       "26   76  2.187983e+08    0.705800\n",
       "27   77  2.189030e+08    0.705311\n",
       "28   78  2.189482e+08    0.704831\n",
       "29   79  2.189360e+08    0.704358"
      ]
     },
     "execution_count": 226,
     "metadata": {},
     "output_type": "execute_result"
    }
   ],
   "source": [
    "glide_lst"
   ]
  },
  {
   "cell_type": "code",
   "execution_count": 227,
   "id": "4c4fed3a",
   "metadata": {
    "scrolled": false
   },
   "outputs": [
    {
     "data": {
      "text/plain": [
       "<AxesSubplot:xlabel='age', ylabel='glide_path'>"
      ]
     },
     "execution_count": 227,
     "metadata": {},
     "output_type": "execute_result"
    },
    {
     "data": {
      "image/png": "[encoded data removed]",
      "text/plain": [
       "<Figure size 432x288 with 1 Axes>"
      ]
     },
     "metadata": {
      "needs_background": "light"
     },
     "output_type": "display_data"
    }
   ],
   "source": [
    "sns.lineplot(x=glide_lst.age, y=glide_lst.glide_path)"
   ]
  },
  {
   "cell_type": "markdown",
   "id": "d40af6d9",
   "metadata": {},
   "source": [
    "---"
   ]
  },
  {
   "cell_type": "markdown",
   "id": "3689ef9b",
   "metadata": {},
   "source": [
    "### ver01."
   ]
  },
  {
   "cell_type": "code",
   "execution_count": 20,
   "id": "dab85733",
   "metadata": {},
   "outputs": [],
   "source": [
    "ID = 10 #data.ID[100]\n",
    "T = 65 # 생애주기 max\n",
    "t_max = 50 # 생애주기에서 수익원이 최대인 시점\n",
    "t = data.query(\"ID == {}\".format(ID)).iloc[0,2]+1\n",
    "t_max_amt = 5000\n",
    "T_amt = 30000\n",
    "t_hat = t.copy()\n",
    "\n",
    "x =  data.query(\"ID == {}\".format(ID)).iloc[0,4]\n",
    "theta = np.exp(-7.34*x**3 + 12.13*x**2 + -6.74*x + 1.95) #위험자산 비율을 활용한 수식\n",
    "\n",
    "mu = 0.08                                    #위험자산의 연 수익률 \n",
    "sigma = 0.2                                  #위험자산의 연 변동성\n",
    "r = 0.01                                    #무위험자산의 연 이자율(KOFR) r ---- 고정\n",
    "x0 = 300000                               #시점 t에서의 wealth\n",
    "m_sav = data.query(\"ID == {}\".format(ID)).iloc[0,5]/1000                               #당월순자산 - 전월순자산\n",
    "\n",
    "alpha_bar = (mu -r)/(theta*sigma**2)"
   ]
  },
  {
   "cell_type": "code",
   "execution_count": 249,
   "id": "4a4391b2",
   "metadata": {
    "scrolled": false
   },
   "outputs": [
    {
     "data": {
      "text/plain": [
       "(1.0752113679656292, 25337.233)"
      ]
     },
     "execution_count": 249,
     "metadata": {},
     "output_type": "execute_result"
    }
   ],
   "source": [
    "theta, m_sav"
   ]
  },
  {
   "cell_type": "code",
   "execution_count": 250,
   "id": "b8cda3b1",
   "metadata": {
    "scrolled": false
   },
   "outputs": [
    {
     "name": "stdout",
     "output_type": "stream",
     "text": [
      "50 -7942512.002914067 5.148396475567119\n",
      "51 17320204.616779417 0.10695332240580435\n",
      "52 46578743.49524218 1.0977891552601027\n",
      "53 80377702.12597246 1.3416499136120799\n",
      "54 119337081.14742023 1.4494811640729295\n",
      "55 164162770.21316227 1.50884928721807\n",
      "56 215658492.07013643 1.5455312941817931\n",
      "57 274739407.62931126 1.5698387339605597\n",
      "58 342447613.0132108 1.5867005834132317\n",
      "59 419969791.686341 1.5987677750080795\n",
      "60 508657321.3631696 1.6075912809034298\n",
      "61 610049177.0650938 1.614137673074832\n",
      "62 725898019.1703067 1.6190395876215786\n",
      "63 858199909.3747354 1.6227275661697627\n",
      "64 1009228159.0762228 1.6255040232488294\n"
     ]
    }
   ],
   "source": [
    "glide = []\n",
    "\n",
    "if t_hat<t_max:\n",
    "    while t < T:\n",
    "        a1 = (t_max_amt-12*m_sav)/(t_max-t_hat)\n",
    "        b1 = ((12*m_sav - t_max_amt)/(t_max-t_hat))*t_max + t_max_amt\n",
    "        a2 = (T_amt-t_max_amt)/(T-t_max)\n",
    "        b2 = (((t_max_amt-T_amt)*T)/(T-t_max))+T_amt     \n",
    "\n",
    "        m_t = x0*np.exp(alpha_bar*mu*t)+alpha_bar*mu*(a2*(T**2)/2+b2*T+(a1-a2)*(t_max**2)/2+(b1-b2)*t_max)*t-alpha_bar*mu*((a1*t**2)/6+(b1*t)/2)*t+(a1*t/2+b1)*t\n",
    "        g_t = alpha_bar+(mu*(a1*((t_max**2)-(t**2))/2+b1*(t_max-t)+a2*((T**2)-(t_max**2))/2+b2*(T-t_max)))/(theta*(sigma**2)*m_t)\n",
    "\n",
    "        print(t,g_t)\n",
    "        glide.append([t,m_t, g_t])\n",
    "        t+=1\n",
    "else:\n",
    "    while t < T:\n",
    "        a2 = (T_amt-12*m_sav)/(T-t_hat)\n",
    "        b2 = T_amt +(12*m_sav-T_amt)/(T-t_hat)\n",
    "\n",
    "        m_t = x0*np.exp(alpha_bar*mu*t)+alpha_bar*mu*(0.5*a2*(T**2)+b2*T)*t - alpha_bar*mu*(a2*(t**2)*1/6+b2*t*1/2)*t+(a2*t/2+b2)*t\n",
    "        g_t = alpha_bar+(mu*(0.5*a2*((T**2)-(t**2))+b2*(T-t))/(theta*(sigma**2)*m_t))\n",
    "        \n",
    "        print(t, m_t, g_t)\n",
    "        glide.append([t, m_t, g_t])\n",
    "        t+=1"
   ]
  },
  {
   "cell_type": "code",
   "execution_count": 251,
   "id": "25c4f0ca",
   "metadata": {},
   "outputs": [],
   "source": [
    "glide = pd.DataFrame(glide)\n",
    "if t_hat<t_max:\n",
    "    glide.columns = ['age','m_t','glide_path']\n",
    "else:\n",
    "    glide.columns = ['age','m_t','glide_path']\n",
    "\n",
    "glide['glide_path'] = glide.glide_path.astype(float)"
   ]
  },
  {
   "cell_type": "code",
   "execution_count": 252,
   "id": "13d8b83b",
   "metadata": {
    "scrolled": true
   },
   "outputs": [
    {
     "data": {
      "text/plain": [
       "<AxesSubplot:xlabel='age', ylabel='glide_path'>"
      ]
     },
     "execution_count": 252,
     "metadata": {},
     "output_type": "execute_result"
    },
    {
     "data": {
      "image/png": "[encoded data removed]",
      "text/plain": [
       "<Figure size 432x288 with 1 Axes>"
      ]
     },
     "metadata": {
      "needs_background": "light"
     },
     "output_type": "display_data"
    }
   ],
   "source": [
    "sns.lineplot(x=glide.age, y=glide.glide_path)"
   ]
  },
  {
   "cell_type": "code",
   "execution_count": 253,
   "id": "fce55c21",
   "metadata": {
    "scrolled": false
   },
   "outputs": [
    {
     "data": {
      "text/html": [
       "<div>\n",
       "<style scoped>\n",
       "    .dataframe tbody tr th:only-of-type {\n",
       "        vertical-align: middle;\n",
       "    }\n",
       "\n",
       "    .dataframe tbody tr th {\n",
       "        vertical-align: top;\n",
       "    }\n",
       "\n",
       "    .dataframe thead th {\n",
       "        text-align: right;\n",
       "    }\n",
       "</style>\n",
       "<table border=\"1\" class=\"dataframe\">\n",
       "  <thead>\n",
       "    <tr style=\"text-align: right;\">\n",
       "      <th></th>\n",
       "      <th>age</th>\n",
       "      <th>m_t</th>\n",
       "      <th>glide_path</th>\n",
       "    </tr>\n",
       "  </thead>\n",
       "  <tbody>\n",
       "    <tr>\n",
       "      <th>0</th>\n",
       "      <td>50</td>\n",
       "      <td>-7.942512e+06</td>\n",
       "      <td>5.148396</td>\n",
       "    </tr>\n",
       "    <tr>\n",
       "      <th>1</th>\n",
       "      <td>51</td>\n",
       "      <td>1.732020e+07</td>\n",
       "      <td>0.106953</td>\n",
       "    </tr>\n",
       "    <tr>\n",
       "      <th>2</th>\n",
       "      <td>52</td>\n",
       "      <td>4.657874e+07</td>\n",
       "      <td>1.097789</td>\n",
       "    </tr>\n",
       "    <tr>\n",
       "      <th>3</th>\n",
       "      <td>53</td>\n",
       "      <td>8.037770e+07</td>\n",
       "      <td>1.341650</td>\n",
       "    </tr>\n",
       "    <tr>\n",
       "      <th>4</th>\n",
       "      <td>54</td>\n",
       "      <td>1.193371e+08</td>\n",
       "      <td>1.449481</td>\n",
       "    </tr>\n",
       "    <tr>\n",
       "      <th>5</th>\n",
       "      <td>55</td>\n",
       "      <td>1.641628e+08</td>\n",
       "      <td>1.508849</td>\n",
       "    </tr>\n",
       "    <tr>\n",
       "      <th>6</th>\n",
       "      <td>56</td>\n",
       "      <td>2.156585e+08</td>\n",
       "      <td>1.545531</td>\n",
       "    </tr>\n",
       "    <tr>\n",
       "      <th>7</th>\n",
       "      <td>57</td>\n",
       "      <td>2.747394e+08</td>\n",
       "      <td>1.569839</td>\n",
       "    </tr>\n",
       "    <tr>\n",
       "      <th>8</th>\n",
       "      <td>58</td>\n",
       "      <td>3.424476e+08</td>\n",
       "      <td>1.586701</td>\n",
       "    </tr>\n",
       "    <tr>\n",
       "      <th>9</th>\n",
       "      <td>59</td>\n",
       "      <td>4.199698e+08</td>\n",
       "      <td>1.598768</td>\n",
       "    </tr>\n",
       "    <tr>\n",
       "      <th>10</th>\n",
       "      <td>60</td>\n",
       "      <td>5.086573e+08</td>\n",
       "      <td>1.607591</td>\n",
       "    </tr>\n",
       "    <tr>\n",
       "      <th>11</th>\n",
       "      <td>61</td>\n",
       "      <td>6.100492e+08</td>\n",
       "      <td>1.614138</td>\n",
       "    </tr>\n",
       "    <tr>\n",
       "      <th>12</th>\n",
       "      <td>62</td>\n",
       "      <td>7.258980e+08</td>\n",
       "      <td>1.619040</td>\n",
       "    </tr>\n",
       "    <tr>\n",
       "      <th>13</th>\n",
       "      <td>63</td>\n",
       "      <td>8.581999e+08</td>\n",
       "      <td>1.622728</td>\n",
       "    </tr>\n",
       "    <tr>\n",
       "      <th>14</th>\n",
       "      <td>64</td>\n",
       "      <td>1.009228e+09</td>\n",
       "      <td>1.625504</td>\n",
       "    </tr>\n",
       "  </tbody>\n",
       "</table>\n",
       "</div>"
      ],
      "text/plain": [
       "    age           m_t  glide_path\n",
       "0    50 -7.942512e+06    5.148396\n",
       "1    51  1.732020e+07    0.106953\n",
       "2    52  4.657874e+07    1.097789\n",
       "3    53  8.037770e+07    1.341650\n",
       "4    54  1.193371e+08    1.449481\n",
       "5    55  1.641628e+08    1.508849\n",
       "6    56  2.156585e+08    1.545531\n",
       "7    57  2.747394e+08    1.569839\n",
       "8    58  3.424476e+08    1.586701\n",
       "9    59  4.199698e+08    1.598768\n",
       "10   60  5.086573e+08    1.607591\n",
       "11   61  6.100492e+08    1.614138\n",
       "12   62  7.258980e+08    1.619040\n",
       "13   63  8.581999e+08    1.622728\n",
       "14   64  1.009228e+09    1.625504"
      ]
     },
     "execution_count": 253,
     "metadata": {},
     "output_type": "execute_result"
    }
   ],
   "source": [
    "glide"
   ]
  },
  {
   "cell_type": "markdown",
   "id": "c3cfe3ff",
   "metadata": {},
   "source": [
    "---"
   ]
  }
 ],
 "metadata": {
  "kernelspec": {
   "display_name": "Python 3 (ipykernel)",
   "language": "python",
   "name": "python3"
  },
  "language_info": {
   "codemirror_mode": {
    "name": "ipython",
    "version": 3
   },
   "file_extension": ".py",
   "mimetype": "text/x-python",
   "name": "python",
   "nbconvert_exporter": "python",
   "pygments_lexer": "ipython3",
   "version": "3.9.12"
  }
 },
 "nbformat": 4,
 "nbformat_minor": 5
}
